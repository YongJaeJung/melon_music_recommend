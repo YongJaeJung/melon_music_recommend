{
 "cells": [
  {
   "cell_type": "markdown",
   "id": "09383984",
   "metadata": {},
   "source": [
    "# 필요한 라이브러리 import"
   ]
  },
  {
   "cell_type": "code",
   "execution_count": 1,
   "id": "c5bfe0a3",
   "metadata": {
    "ExecuteTime": {
     "end_time": "2021-12-31T16:24:22.396322Z",
     "start_time": "2021-12-31T16:24:20.602262Z"
    }
   },
   "outputs": [],
   "source": [
    "import os\n",
    "import json\n",
    "import numpy as np\n",
    "import pandas as pd\n",
    "from scipy import sparse as spr\n",
    "from itertools import chain\n",
    "from collections import defaultdict,Counter\n",
    "import hnswlib\n",
    "import warnings\n",
    "import pickle\n",
    "import matplotlib.pyplot as plt\n",
    "import seaborn as sns\n",
    "from itertools import repeat\n",
    "import random\n",
    "from scipy.stats import skew,kurtosis\n",
    "warnings.filterwarnings(action='ignore')"
   ]
  },
  {
   "cell_type": "markdown",
   "id": "9ae8eb62",
   "metadata": {},
   "source": [
    "# 데이터 로드"
   ]
  },
  {
   "cell_type": "markdown",
   "id": "8084c756",
   "metadata": {},
   "source": [
    "## 노래 데이터 로드"
   ]
  },
  {
   "cell_type": "code",
   "execution_count": 2,
   "id": "alike-angola",
   "metadata": {
    "ExecuteTime": {
     "end_time": "2021-12-31T16:24:28.102322Z",
     "start_time": "2021-12-31T16:24:22.397323Z"
    }
   },
   "outputs": [],
   "source": [
    "with open('./data/song_meta.json',encoding='utf-8-sig') as f:\n",
    "    song_dict = json.load(f)\n",
    "    \n",
    "song_df = pd.DataFrame.from_dict(song_dict)"
   ]
  },
  {
   "cell_type": "markdown",
   "id": "9802f633",
   "metadata": {},
   "source": [
    "## 장르 데이터 로드"
   ]
  },
  {
   "cell_type": "code",
   "execution_count": 3,
   "id": "unique-electric",
   "metadata": {
    "ExecuteTime": {
     "end_time": "2021-12-31T16:24:28.117323Z",
     "start_time": "2021-12-31T16:24:28.103323Z"
    }
   },
   "outputs": [],
   "source": [
    "with open('./data/genre_gn_all.json',encoding='utf-8-sig') as f:\n",
    "    genre_dict = json.load(f)"
   ]
  },
  {
   "cell_type": "markdown",
   "id": "72e4e293",
   "metadata": {},
   "source": [
    "## 플레이리스트 데이터 로드"
   ]
  },
  {
   "cell_type": "code",
   "execution_count": 4,
   "id": "31d7a997",
   "metadata": {
    "ExecuteTime": {
     "end_time": "2021-12-31T16:24:29.437335Z",
     "start_time": "2021-12-31T16:24:28.119325Z"
    }
   },
   "outputs": [],
   "source": [
    "with open('data/train.json',encoding='utf-8-sig') as f:\n",
    "    train_dict = json.load(f)\n",
    "    \n",
    "playlist_df = pd.DataFrame.from_dict(train_dict)"
   ]
  },
  {
   "cell_type": "markdown",
   "id": "7f312eb5",
   "metadata": {},
   "source": [
    "# 데이터 전처리"
   ]
  },
  {
   "cell_type": "markdown",
   "id": "e83fb22c",
   "metadata": {},
   "source": [
    "## 태그 전처리"
   ]
  },
  {
   "cell_type": "markdown",
   "id": "5de1509c",
   "metadata": {},
   "source": [
    "### tag와 tag_id 간 딕셔너리 만들기 "
   ]
  },
  {
   "cell_type": "code",
   "execution_count": 5,
   "id": "d3ee5d86",
   "metadata": {
    "ExecuteTime": {
     "end_time": "2021-12-31T16:24:29.497351Z",
     "start_time": "2021-12-31T16:24:29.438341Z"
    }
   },
   "outputs": [],
   "source": [
    "with open('./data/tag_tag_id_dict.json','r',encoding='utf-8-sig') as f:\n",
    "    tag_to_id = json.load(f)"
   ]
  },
  {
   "cell_type": "code",
   "execution_count": 6,
   "id": "71a24f2c",
   "metadata": {
    "ExecuteTime": {
     "end_time": "2021-12-31T16:24:29.512158Z",
     "start_time": "2021-12-31T16:24:29.498352Z"
    }
   },
   "outputs": [],
   "source": [
    "# id를 tag로\n",
    "id_to_tag = {}\n",
    "    \n",
    "for k,v in tag_to_id.items() :\n",
    "    id_to_tag[v] = k"
   ]
  },
  {
   "cell_type": "markdown",
   "id": "interesting-lloyd",
   "metadata": {},
   "source": [
    "### 태그 사용 빈도수 도출"
   ]
  },
  {
   "cell_type": "code",
   "execution_count": 7,
   "id": "1e8963c5",
   "metadata": {
    "ExecuteTime": {
     "end_time": "2021-12-31T16:24:29.632162Z",
     "start_time": "2021-12-31T16:24:29.513164Z"
    }
   },
   "outputs": [],
   "source": [
    "# train dataframe tag 컬럼의 모든 tag들 (중복포함)\n",
    "tags_all = playlist_df['tags'].tolist()\n",
    "\n",
    "# 태그의 빈도수를 가진 dict, Counter 써도 됨\n",
    "tags_frequency = defaultdict(int)\n",
    "\n",
    "# 특정 tag가 나올 때마다 1더하기\n",
    "for tags in tags_all:\n",
    "    for tag in tags:\n",
    "        tags_frequency[tag] += 1"
   ]
  },
  {
   "cell_type": "code",
   "execution_count": 8,
   "id": "04c26c2d",
   "metadata": {
    "ExecuteTime": {
     "end_time": "2021-12-31T16:24:29.662162Z",
     "start_time": "2021-12-31T16:24:29.633163Z"
    }
   },
   "outputs": [
    {
     "data": {
      "text/html": [
       "<div>\n",
       "<style scoped>\n",
       "    .dataframe tbody tr th:only-of-type {\n",
       "        vertical-align: middle;\n",
       "    }\n",
       "\n",
       "    .dataframe tbody tr th {\n",
       "        vertical-align: top;\n",
       "    }\n",
       "\n",
       "    .dataframe thead th {\n",
       "        text-align: right;\n",
       "    }\n",
       "</style>\n",
       "<table border=\"1\" class=\"dataframe\">\n",
       "  <thead>\n",
       "    <tr style=\"text-align: right;\">\n",
       "      <th></th>\n",
       "      <th>count</th>\n",
       "      <th>mean</th>\n",
       "      <th>std</th>\n",
       "      <th>min</th>\n",
       "      <th>25%</th>\n",
       "      <th>50%</th>\n",
       "      <th>75%</th>\n",
       "      <th>max</th>\n",
       "    </tr>\n",
       "  </thead>\n",
       "  <tbody>\n",
       "    <tr>\n",
       "      <th>빈도</th>\n",
       "      <td>29160.0</td>\n",
       "      <td>16.335082</td>\n",
       "      <td>247.011075</td>\n",
       "      <td>1.0</td>\n",
       "      <td>1.0</td>\n",
       "      <td>1.0</td>\n",
       "      <td>3.0</td>\n",
       "      <td>16465.0</td>\n",
       "    </tr>\n",
       "  </tbody>\n",
       "</table>\n",
       "</div>"
      ],
      "text/plain": [
       "      count       mean         std  min  25%  50%  75%      max\n",
       "빈도  29160.0  16.335082  247.011075  1.0  1.0  1.0  3.0  16465.0"
      ]
     },
     "execution_count": 8,
     "metadata": {},
     "output_type": "execute_result"
    }
   ],
   "source": [
    "# 태그 빈도의 분포를 알아보자\n",
    "tag_freq = pd.DataFrame().from_dict(tags_frequency,orient=\"index\")\n",
    "tag_freq.columns=['빈도']\n",
    "tag_freq.describe().T"
   ]
  },
  {
   "cell_type": "markdown",
   "id": "initial-seller",
   "metadata": {},
   "source": [
    "### 태그 사용 빈도 수의 평균 값(16)을 기준으로 태그를 절삭"
   ]
  },
  {
   "cell_type": "code",
   "execution_count": 9,
   "id": "still-istanbul",
   "metadata": {
    "ExecuteTime": {
     "end_time": "2021-12-31T16:24:30.342164Z",
     "start_time": "2021-12-31T16:24:29.663163Z"
    }
   },
   "outputs": [],
   "source": [
    "# 빈도수로 태그를 filter\n",
    "\n",
    "def filter_func(x):\n",
    "    temp = []\n",
    "    for tag in x:\n",
    "        if tags_frequency[tag] >=16:\n",
    "            temp.append(tag)\n",
    "        else:\n",
    "            pass\n",
    "    return temp\n",
    "            \n",
    "playlist_df['tags'] = playlist_df['tags'].map(filter_func)"
   ]
  },
  {
   "cell_type": "markdown",
   "id": "8645849d",
   "metadata": {},
   "source": [
    "### 행렬을 만들기 위해 tag를 id로 만들어 새 컬럼 생성"
   ]
  },
  {
   "cell_type": "code",
   "execution_count": 10,
   "id": "2c1c7387",
   "metadata": {
    "ExecuteTime": {
     "end_time": "2021-12-31T16:24:30.433979Z",
     "start_time": "2021-12-31T16:24:30.344164Z"
    }
   },
   "outputs": [],
   "source": [
    "# filter된 태그의 id만 남기기\n",
    "playlist_df['tag_ids'] = playlist_df['tags'].map(lambda x : [tag_to_id[v] for v in x])"
   ]
  },
  {
   "cell_type": "markdown",
   "id": "ignored-upper",
   "metadata": {},
   "source": [
    "### 컬럼명 한글화 및 플레이리스트 당 태그의 수 컬럼 생성"
   ]
  },
  {
   "cell_type": "code",
   "execution_count": 11,
   "id": "afraid-television",
   "metadata": {
    "ExecuteTime": {
     "end_time": "2021-12-31T16:24:30.478952Z",
     "start_time": "2021-12-31T16:24:30.434981Z"
    }
   },
   "outputs": [],
   "source": [
    "playlist_df.columns=['태그','플리아이디','플리제목','노래들','좋아요수','변경일자','태그아이디']\n",
    "playlist_df['태그수'] = playlist_df['태그'].map(len)"
   ]
  },
  {
   "cell_type": "markdown",
   "id": "affected-murray",
   "metadata": {},
   "source": [
    "## 플레이리스트의 태그로 예측에 사용 될 태그와 검증에 사용 될 태그로 나누기"
   ]
  },
  {
   "cell_type": "code",
   "execution_count": 12,
   "id": "disabled-forum",
   "metadata": {
    "ExecuteTime": {
     "end_time": "2021-12-31T16:24:30.568952Z",
     "start_time": "2021-12-31T16:24:30.479952Z"
    }
   },
   "outputs": [
    {
     "data": {
      "text/html": [
       "<div>\n",
       "<style scoped>\n",
       "    .dataframe tbody tr th:only-of-type {\n",
       "        vertical-align: middle;\n",
       "    }\n",
       "\n",
       "    .dataframe tbody tr th {\n",
       "        vertical-align: top;\n",
       "    }\n",
       "\n",
       "    .dataframe thead th {\n",
       "        text-align: right;\n",
       "    }\n",
       "</style>\n",
       "<table border=\"1\" class=\"dataframe\">\n",
       "  <thead>\n",
       "    <tr style=\"text-align: right;\">\n",
       "      <th></th>\n",
       "      <th>예측용태그</th>\n",
       "      <th>검증용태그</th>\n",
       "      <th>als_예측결과</th>\n",
       "      <th>als_히트</th>\n",
       "    </tr>\n",
       "  </thead>\n",
       "  <tbody>\n",
       "    <tr>\n",
       "      <th>0</th>\n",
       "      <td>[트로피컬하우스, 일렉, 팝]</td>\n",
       "      <td>[기분전환, 2017, 드라이브, 운동, Pop, 트렌드, 힐링]</td>\n",
       "      <td>NaN</td>\n",
       "      <td>NaN</td>\n",
       "    </tr>\n",
       "  </tbody>\n",
       "</table>\n",
       "</div>"
      ],
      "text/plain": [
       "              예측용태그                                 검증용태그 als_예측결과 als_히트\n",
       "0  [트로피컬하우스, 일렉, 팝]  [기분전환, 2017, 드라이브, 운동, Pop, 트렌드, 힐링]      NaN    NaN"
      ]
     },
     "execution_count": 12,
     "metadata": {},
     "output_type": "execute_result"
    }
   ],
   "source": [
    "# 3:7 비율로 랜덤으로 나눌 것이기 때문에 태그수가 3 보다 커야 한다.\n",
    "origin_tags = playlist_df[playlist_df['태그수']>9]['태그'].tolist()\n",
    "\n",
    "train_tags = []\n",
    "test_tags = []\n",
    "\n",
    "# 3:7비율로 나누기\n",
    "for tags in origin_tags:\n",
    "    tag_3p = len(tags)//3\n",
    "    train_tag = random.sample(tags, tag_3p)\n",
    "    test_tag = list(set(tags)-set(train_tag))\n",
    "    train_tags.append(train_tag)\n",
    "    test_tags.append(test_tag)\n",
    "    \n",
    "cal_tag_hit_df = pd.DataFrame(columns=['예측용태그','검증용태그','als_예측결과','als_히트'])\n",
    "\n",
    "cal_tag_hit_df['예측용태그'] = train_tags\n",
    "cal_tag_hit_df['검증용태그'] = test_tags\n",
    "cal_tag_hit_df.head(1)"
   ]
  },
  {
   "cell_type": "markdown",
   "id": "8d25f5e7",
   "metadata": {},
   "source": [
    "# 세부장르 전처리"
   ]
  },
  {
   "cell_type": "markdown",
   "id": "ecc4df4b",
   "metadata": {},
   "source": [
    "## 노래 데이터 프레임 컬럼명 한글화"
   ]
  },
  {
   "cell_type": "code",
   "execution_count": 13,
   "id": "grateful-identity",
   "metadata": {
    "ExecuteTime": {
     "end_time": "2021-12-31T16:24:30.583950Z",
     "start_time": "2021-12-31T16:24:30.569950Z"
    }
   },
   "outputs": [],
   "source": [
    "# 노래 데이터 프레임 컬럼명 한글화\n",
    "song_df.colums=['세부장르','발매일','앨범명','앨범ID','가수ID','노래명','대장르','가수명','노래ID']"
   ]
  },
  {
   "cell_type": "markdown",
   "id": "disturbed-desert",
   "metadata": {},
   "source": [
    "## 세부 장르 이름에 대장르의 이름 넣기"
   ]
  },
  {
   "cell_type": "code",
   "execution_count": 14,
   "id": "listed-monthly",
   "metadata": {
    "ExecuteTime": {
     "end_time": "2021-12-31T16:24:30.599949Z",
     "start_time": "2021-12-31T16:24:30.584951Z"
    }
   },
   "outputs": [],
   "source": [
    "genre_dict['GN9000'] = '기타장르'\n",
    "\n",
    "genre_big = {}\n",
    "\n",
    "# 모든 장르 딕셔너리를 돌면서\n",
    "for k,v in genre_dict.items():\n",
    "    \n",
    "    # 맨 뒤 두자리가 00이면 대장류로 분류\n",
    "    if k[-2:] == '00':\n",
    "        \n",
    "        # 맨앞 네자리를 키로 하는 대장류 딕셔너리 값 추가\n",
    "        genre_big[k[:4]] = v\n",
    "\n",
    "genre_detail_dict = {}\n",
    "\n",
    "# 모든 딕셔너리를 돌면서\n",
    "for k,v in genre_dict.items():\n",
    "    \n",
    "    # 맨뒤 두자리가 00이 아니면 대장류가 아닌거임!\n",
    "    if k[-2:] != '00':\n",
    "        \n",
    "        # 그럴떈 아까만든 대장르 딕셔너리의 대장류 이름을 추가해서 이름을 수정해서 다시 넣어줌\n",
    "        new_value = genre_big[k[:4]]+'_'+v\n",
    "        genre_detail_dict[k] = new_value\n",
    "        \n",
    "genre_big_dict = {}\n",
    "\n",
    "for k,v in genre_big.items():\n",
    "    genre_big_dict[k+'00'] = v"
   ]
  },
  {
   "cell_type": "markdown",
   "id": "ff6232e1",
   "metadata": {},
   "source": [
    "## 세부장르ID와 CODE간 딕셔너리 생성"
   ]
  },
  {
   "cell_type": "code",
   "execution_count": 15,
   "id": "flexible-tumor",
   "metadata": {
    "ExecuteTime": {
     "end_time": "2021-12-31T16:24:30.614770Z",
     "start_time": "2021-12-31T16:24:30.600950Z"
    }
   },
   "outputs": [],
   "source": [
    "# 세부장르의 id를 세부장르 코드로\n",
    "genre_detail_id_to_code = {}\n",
    "\n",
    "# 세부장르의 코드를 세부장르의 id로\n",
    "genre_detail_code_to_id = {}\n",
    "\n",
    "for i,v in enumerate(list(genre_detail_dict.keys())):\n",
    "    genre_detail_id_to_code[i] = v\n",
    "    \n",
    "for i,v in enumerate(list(genre_detail_dict.keys())):\n",
    "    genre_detail_code_to_id[v] = i"
   ]
  },
  {
   "cell_type": "markdown",
   "id": "455434b6",
   "metadata": {},
   "source": [
    "## 노래ID와 세부장르ID간 딕셔너리 생성"
   ]
  },
  {
   "cell_type": "code",
   "execution_count": 16,
   "id": "disciplinary-parish",
   "metadata": {
    "ExecuteTime": {
     "end_time": "2021-12-31T16:24:31.248786Z",
     "start_time": "2021-12-31T16:24:30.615770Z"
    }
   },
   "outputs": [],
   "source": [
    "# 노래의 ID를 KEY 세부장르의 ID리스트를 ITEM으로 하는 딕셔너리 생성 \n",
    "\n",
    "song_genre_detail_dict = defaultdict(list)\n",
    "\n",
    "for codes,id in zip(song_df['song_gn_dtl_gnr_basket'].tolist(),song_df['id'].tolist()):\n",
    "    for code in codes:\n",
    "        song_genre_detail_dict[id].append(genre_detail_code_to_id[code])"
   ]
  },
  {
   "cell_type": "markdown",
   "id": "restricted-casting",
   "metadata": {},
   "source": [
    "## 플레이리스트 각 노래마다 달린 세부장르의 ID를 전부 플레이리스트에 추가"
   ]
  },
  {
   "cell_type": "code",
   "execution_count": 17,
   "id": "material-agenda",
   "metadata": {
    "ExecuteTime": {
     "end_time": "2021-12-31T16:24:34.489786Z",
     "start_time": "2021-12-31T16:24:31.249788Z"
    }
   },
   "outputs": [
    {
     "data": {
      "text/html": [
       "<div>\n",
       "<style scoped>\n",
       "    .dataframe tbody tr th:only-of-type {\n",
       "        vertical-align: middle;\n",
       "    }\n",
       "\n",
       "    .dataframe tbody tr th {\n",
       "        vertical-align: top;\n",
       "    }\n",
       "\n",
       "    .dataframe thead th {\n",
       "        text-align: right;\n",
       "    }\n",
       "</style>\n",
       "<table border=\"1\" class=\"dataframe\">\n",
       "  <thead>\n",
       "    <tr style=\"text-align: right;\">\n",
       "      <th></th>\n",
       "      <th>태그</th>\n",
       "      <th>플리아이디</th>\n",
       "      <th>플리제목</th>\n",
       "      <th>노래들</th>\n",
       "      <th>좋아요수</th>\n",
       "      <th>변경일자</th>\n",
       "      <th>태그아이디</th>\n",
       "      <th>태그수</th>\n",
       "      <th>세부장르</th>\n",
       "    </tr>\n",
       "  </thead>\n",
       "  <tbody>\n",
       "    <tr>\n",
       "      <th>0</th>\n",
       "      <td>[락]</td>\n",
       "      <td>61281</td>\n",
       "      <td>여행같은 음악</td>\n",
       "      <td>[525514, 129701, 383374, 562083, 297861, 13954...</td>\n",
       "      <td>71</td>\n",
       "      <td>2013-12-19 18:36:19.000</td>\n",
       "      <td>[25304]</td>\n",
       "      <td>1</td>\n",
       "      <td>[97, 96, 48, 49, 56, 67, 60, 56, 68, 48, 49, 5...</td>\n",
       "    </tr>\n",
       "  </tbody>\n",
       "</table>\n",
       "</div>"
      ],
      "text/plain": [
       "    태그  플리아이디     플리제목                                                노래들  \\\n",
       "0  [락]  61281  여행같은 음악  [525514, 129701, 383374, 562083, 297861, 13954...   \n",
       "\n",
       "   좋아요수                     변경일자    태그아이디  태그수  \\\n",
       "0    71  2013-12-19 18:36:19.000  [25304]    1   \n",
       "\n",
       "                                                세부장르  \n",
       "0  [97, 96, 48, 49, 56, 67, 60, 56, 68, 48, 49, 5...  "
      ]
     },
     "execution_count": 17,
     "metadata": {},
     "output_type": "execute_result"
    }
   ],
   "source": [
    "# 플레이리스트의 모든 노래의 세부장르를 모아서 새로운 컬럼으로 생성\n",
    "\n",
    "def fetcher(x):\n",
    "    temp = []\n",
    "    for song in x:\n",
    "        genre_ids = song_genre_detail_dict[song]\n",
    "        for id in genre_ids:\n",
    "            temp.append(id)\n",
    "    return temp\n",
    "\n",
    "playlist_df['세부장르'] = playlist_df['노래들'].map(fetcher)\n",
    "playlist_df.head(1)"
   ]
  },
  {
   "cell_type": "markdown",
   "id": "1ab41e1a",
   "metadata": {},
   "source": [
    "## 태그ID와 세부장르ID들 간 딕셔너리 생성"
   ]
  },
  {
   "cell_type": "code",
   "execution_count": 18,
   "id": "regulated-native",
   "metadata": {
    "ExecuteTime": {
     "end_time": "2021-12-31T16:24:35.362200Z",
     "start_time": "2021-12-31T16:24:34.490788Z"
    }
   },
   "outputs": [],
   "source": [
    "# {tag_Id:genre_detail_ids}\n",
    "\n",
    "tag_id_to_genre_detail_ids = defaultdict(list)\n",
    "\n",
    "for ids,genres in zip(playlist_df['태그아이디'].tolist(),playlist_df['세부장르'].tolist()):\n",
    "    for id in ids:\n",
    "        tag_id_to_genre_detail_ids[id].extend(genres)"
   ]
  },
  {
   "cell_type": "markdown",
   "id": "b79b2e8f",
   "metadata": {},
   "source": [
    "# 태그-세부장르 간 csr_matrix만들기"
   ]
  },
  {
   "cell_type": "code",
   "execution_count": 19,
   "id": "incredible-hartford",
   "metadata": {
    "ExecuteTime": {
     "end_time": "2021-12-31T16:24:38.002204Z",
     "start_time": "2021-12-31T16:24:35.363205Z"
    }
   },
   "outputs": [],
   "source": [
    "# 세부장르의 빈도수를 카운트해서 tag_id_to_genre_detail_id의 value를 바꿔줌\n",
    "\n",
    "for k,v in tag_id_to_genre_detail_ids.items():\n",
    "    tag_id_to_genre_detail_ids[k] = dict(Counter(v))"
   ]
  },
  {
   "cell_type": "code",
   "execution_count": 20,
   "id": "95b2dd9b",
   "metadata": {
    "ExecuteTime": {
     "end_time": "2021-12-31T16:24:39.489218Z",
     "start_time": "2021-12-31T16:24:38.003206Z"
    }
   },
   "outputs": [],
   "source": [
    "# 딕셔너리의 빈도를 min_max_scaling하고 1을 더함 -> 0이 되는것은 싫다!\n",
    "for k,value_dict in tag_id_to_genre_detail_ids.items():\n",
    "    max_val = np.max(list(value_dict.values()))\n",
    "    min_val = np.min(list(value_dict.values()))\n",
    "    for key,value in value_dict.items():\n",
    "        value_dict[key] = np.round((value-min_val)/(max_val-min_val),3)"
   ]
  },
  {
   "cell_type": "markdown",
   "id": "a666e219",
   "metadata": {},
   "source": [
    "## 만든 딕셔너리를 이용해서 csr_matrix 생성"
   ]
  },
  {
   "cell_type": "code",
   "execution_count": 21,
   "id": "a9ada042",
   "metadata": {
    "ExecuteTime": {
     "end_time": "2021-12-31T16:24:39.549401Z",
     "start_time": "2021-12-31T16:24:39.490219Z"
    }
   },
   "outputs": [],
   "source": [
    "# 행,열,데이터 list를 생성\n",
    "row = []\n",
    "col = []\n",
    "dat = []\n",
    "\n",
    "for k,v in tag_id_to_genre_detail_ids.items():\n",
    "    for vk,vv in v.items():\n",
    "        row.append(k)\n",
    "        col.append(vk)\n",
    "        dat.append(vv)"
   ]
  },
  {
   "cell_type": "code",
   "execution_count": 22,
   "id": "887d40e4",
   "metadata": {
    "ExecuteTime": {
     "end_time": "2021-12-31T16:24:39.609401Z",
     "start_time": "2021-12-31T16:24:39.550403Z"
    }
   },
   "outputs": [],
   "source": [
    "# 29160의 태그의 가짓수, 224는 세부장르의 가짓수\n",
    "A = spr.csr_matrix((dat, (row, col)), shape=(29160, 224))\n",
    "\n",
    "# 행렬분해 수행을 위해 자료형 변경\n",
    "A = A.astype(float)"
   ]
  },
  {
   "cell_type": "markdown",
   "id": "887a222b",
   "metadata": {},
   "source": [
    "# ALS로 태그 임베딩"
   ]
  },
  {
   "cell_type": "markdown",
   "id": "a727ebe5",
   "metadata": {},
   "source": [
    "## 태그-세부장르 행렬의 ALS 수행 "
   ]
  },
  {
   "cell_type": "raw",
   "id": "surface-provision",
   "metadata": {
    "ExecuteTime": {
     "end_time": "2021-11-21T00:47:31.348945Z",
     "start_time": "2021-11-21T00:47:28.133374Z"
    }
   },
   "source": [
    "from implicit.als import AlternatingLeastSquares\n",
    "\n",
    "als_model = AlternatingLeastSquares()\n",
    "als_model.fit(A)\n",
    "als_vectors = als_model.item_factors\n",
    "data_len,dim = als_vectors.shape\n",
    "\n",
    "# als tag의 벡터들을 저장\n",
    "with open('./data/als_tag_100_vectors.pickle', 'wb') as f:\n",
    "    pickle.dump(als_vectors,f)"
   ]
  },
  {
   "cell_type": "code",
   "execution_count": 23,
   "id": "acoustic-trainer",
   "metadata": {
    "ExecuteTime": {
     "end_time": "2021-12-31T16:24:39.699667Z",
     "start_time": "2021-12-31T16:24:39.610402Z"
    }
   },
   "outputs": [],
   "source": [
    "# als tag의 벡터들을 로드\n",
    "with open('./data/als_tag_100_vectors.pickle', 'rb') as f:\n",
    "    als_vectors = pickle.load(f)"
   ]
  },
  {
   "cell_type": "markdown",
   "id": "fe093c65",
   "metadata": {
    "ExecuteTime": {
     "end_time": "2021-11-16T11:23:06.551114Z",
     "start_time": "2021-11-16T11:23:06.538548Z"
    }
   },
   "source": [
    "## cosine유사도를 이용해서 KNN 모델 생성"
   ]
  },
  {
   "cell_type": "raw",
   "id": "hungarian-tooth",
   "metadata": {
    "ExecuteTime": {
     "end_time": "2021-11-21T01:00:15.906837Z",
     "start_time": "2021-11-21T00:48:42.739117Z"
    }
   },
   "source": [
    "# 100차원으로 index 생성 및 초기화\n",
    "als_p = hnswlib.Index(space='cosine', dim=dim)  \n",
    "als_p.init_index(max_elements=data_len, ef_construction=500, M=100)\n",
    "\n",
    "# 짐재행렬 추가\n",
    "als_p.add_items(als_vectors,np.arange(data_len))\n",
    "\n",
    "#svd knn모델 저장\n",
    "with open('./data/als_100_knn_model.pickle', 'wb') as f:\n",
    "    pickle.dump(als_p,f)"
   ]
  },
  {
   "cell_type": "code",
   "execution_count": 24,
   "id": "appropriate-clear",
   "metadata": {
    "ExecuteTime": {
     "end_time": "2021-12-31T16:24:39.990301Z",
     "start_time": "2021-12-31T16:24:39.700669Z"
    }
   },
   "outputs": [],
   "source": [
    "#svd knn모델 load\n",
    "with open('./data/als_100_knn_model.pickle', 'rb') as f:\n",
    "    als_p = pickle.load(f)"
   ]
  },
  {
   "cell_type": "markdown",
   "id": "imposed-sense",
   "metadata": {},
   "source": [
    "# 태그 예측"
   ]
  },
  {
   "cell_type": "markdown",
   "id": "hourly-spectrum",
   "metadata": {},
   "source": [
    "## 예측 수행 및 수행 결과 저장"
   ]
  },
  {
   "cell_type": "code",
   "execution_count": 25,
   "id": "a32967bf",
   "metadata": {
    "ExecuteTime": {
     "end_time": "2021-12-31T16:24:40.006301Z",
     "start_time": "2021-12-31T16:24:39.991302Z"
    }
   },
   "outputs": [],
   "source": [
    "# svd_knn_model로 태그를 예측하여 예측된 결과의 list를 저장하는 함수\n",
    "\n",
    "def tag_als(x):\n",
    "    target_ids = [tag_to_id[t] for t in x]\n",
    "    \n",
    "    vectors = np.zeros((100,1))\n",
    "    \n",
    "    for id in target_ids:\n",
    "        vectors = vectors+als_vectors[id]\n",
    "    \n",
    "    labels, distances = als_p.knn_query(vectors/len(target_ids), k = 10+len(x))\n",
    "\n",
    "    ids = [label for label in labels[0]]\n",
    "   \n",
    "    return list(set([id_to_tag[tag] for tag in ids])-set(x))"
   ]
  },
  {
   "cell_type": "code",
   "execution_count": 26,
   "id": "8229231a",
   "metadata": {
    "ExecuteTime": {
     "end_time": "2021-12-31T16:24:52.268303Z",
     "start_time": "2021-12-31T16:24:40.007302Z"
    }
   },
   "outputs": [],
   "source": [
    "# 예측수행\n",
    "cal_tag_hit_df['als_예측결과'] = cal_tag_hit_df['예측용태그'].map(tag_als)"
   ]
  },
  {
   "cell_type": "code",
   "execution_count": 27,
   "id": "faced-tanzania",
   "metadata": {
    "ExecuteTime": {
     "end_time": "2021-12-31T16:24:52.299301Z",
     "start_time": "2021-12-31T16:24:52.269303Z"
    }
   },
   "outputs": [
    {
     "data": {
      "text/html": [
       "<div>\n",
       "<style scoped>\n",
       "    .dataframe tbody tr th:only-of-type {\n",
       "        vertical-align: middle;\n",
       "    }\n",
       "\n",
       "    .dataframe tbody tr th {\n",
       "        vertical-align: top;\n",
       "    }\n",
       "\n",
       "    .dataframe thead th {\n",
       "        text-align: right;\n",
       "    }\n",
       "</style>\n",
       "<table border=\"1\" class=\"dataframe\">\n",
       "  <thead>\n",
       "    <tr style=\"text-align: right;\">\n",
       "      <th></th>\n",
       "      <th>예측용태그</th>\n",
       "      <th>검증용태그</th>\n",
       "      <th>als_예측결과</th>\n",
       "      <th>als_히트</th>\n",
       "    </tr>\n",
       "  </thead>\n",
       "  <tbody>\n",
       "    <tr>\n",
       "      <th>0</th>\n",
       "      <td>[트로피컬하우스, 일렉, 팝]</td>\n",
       "      <td>[기분전환, 2017, 드라이브, 운동, Pop, 트렌드, 힐링]</td>\n",
       "      <td>[장르불문, 그루브, 팝송, 취향저격, 힙합, 세련된, Pop, 소울, 트렌디, 알...</td>\n",
       "      <td>NaN</td>\n",
       "    </tr>\n",
       "    <tr>\n",
       "      <th>1</th>\n",
       "      <td>[기분전환, 댄스, 여름]</td>\n",
       "      <td>[매장음악, 취향저격, 일렉트로니카, 신나는, 드라이브, 여행, 일렉]</td>\n",
       "      <td>[봄, 매장음악, 새벽, 가을, 우울, 설렘, 드라이브, 분위기, 여행, 감성, 퇴근길]</td>\n",
       "      <td>NaN</td>\n",
       "    </tr>\n",
       "    <tr>\n",
       "      <th>2</th>\n",
       "      <td>[감성, 기분전환, 우울]</td>\n",
       "      <td>[사랑, 인디, 새벽, 발라드, 이별, 잔잔한, 알앤비]</td>\n",
       "      <td>[봄, 매장음악, 새벽, 가을, 겨울, 밤, 설렘, 드라이브, 여행, 여름]</td>\n",
       "      <td>NaN</td>\n",
       "    </tr>\n",
       "    <tr>\n",
       "      <th>3</th>\n",
       "      <td>[그루브, 새벽, 라운지]</td>\n",
       "      <td>[휴식, 기분전환, 매장, 드라이브, 펍, 퇴근길, 세련된]</td>\n",
       "      <td>[저녁, 새벽감성, 매장음악, 매장, 카페, 밤, 감미로운, 분위기, 감성, 여름,...</td>\n",
       "      <td>NaN</td>\n",
       "    </tr>\n",
       "    <tr>\n",
       "      <th>4</th>\n",
       "      <td>[추위, 자장가, 카페]</td>\n",
       "      <td>[일상, 매장, 매장음악, 새벽, 추억, 잠, 잔잔한]</td>\n",
       "      <td>[노동요, 일상, 주말, 휴일, 집, 커피, 여유, 밤새벽, 잔잔한, 잠들기전, 오후]</td>\n",
       "      <td>NaN</td>\n",
       "    </tr>\n",
       "    <tr>\n",
       "      <th>...</th>\n",
       "      <td>...</td>\n",
       "      <td>...</td>\n",
       "      <td>...</td>\n",
       "      <td>...</td>\n",
       "    </tr>\n",
       "    <tr>\n",
       "      <th>6896</th>\n",
       "      <td>[찬바람, 집중, 피아노]</td>\n",
       "      <td>[노동요, 겨울감성, 공부, 따스한, 아침, 연주곡, 오후]</td>\n",
       "      <td>[독서, 뉴에이지, 모닝콜, 생각, 공부, 피곤, 밤새벽, 잠, 연주곡, 잠들기전,...</td>\n",
       "      <td>NaN</td>\n",
       "    </tr>\n",
       "    <tr>\n",
       "      <th>6897</th>\n",
       "      <td>[취향저격, 커피, 기분전환]</td>\n",
       "      <td>[봄, 매장음악, 센치, 감성, 휴식, 잔잔한, 위로]</td>\n",
       "      <td>[봄, 매장음악, 새벽, 가을, 카페, 밤, 분위기, 설렘, 감성, 여름, 퇴근길,...</td>\n",
       "      <td>NaN</td>\n",
       "    </tr>\n",
       "    <tr>\n",
       "      <th>6898</th>\n",
       "      <td>[카페, 매장, 연주곡]</td>\n",
       "      <td>[노동요, 모닝콜, 쌀쌀한, 아침, 출근길, 피아노, 휴식]</td>\n",
       "      <td>[주말, 봄, 산책, 매장음악, 오후, 새벽, 밤, 커피, 여유, 분위기, 비오는날...</td>\n",
       "      <td>NaN</td>\n",
       "    </tr>\n",
       "    <tr>\n",
       "      <th>6899</th>\n",
       "      <td>[팝송음악, 취향저격, 기분전환]</td>\n",
       "      <td>[신나는, Pop, 감성, 힐링, 잔잔한, 팝송, 휴식]</td>\n",
       "      <td>[저녁, 노래, 매장음악, 보컬, 좋은노래, 우울, 설렘, 드라이브, 감성, 여름,...</td>\n",
       "      <td>NaN</td>\n",
       "    </tr>\n",
       "    <tr>\n",
       "      <th>6900</th>\n",
       "      <td>[기분업, 일렉트로니카, 기분전환]</td>\n",
       "      <td>[하우스, 신나는, 드라이브, EDM, 운동, 파티, 에너지]</td>\n",
       "      <td>[비오는날, 매장음악, 매장, 새벽, 카페, 밤, 분위기, 드라이브, 감성, 여름,...</td>\n",
       "      <td>NaN</td>\n",
       "    </tr>\n",
       "  </tbody>\n",
       "</table>\n",
       "<p>6901 rows × 4 columns</p>\n",
       "</div>"
      ],
      "text/plain": [
       "                    예측용태그                                    검증용태그  \\\n",
       "0        [트로피컬하우스, 일렉, 팝]     [기분전환, 2017, 드라이브, 운동, Pop, 트렌드, 힐링]   \n",
       "1          [기분전환, 댄스, 여름]  [매장음악, 취향저격, 일렉트로니카, 신나는, 드라이브, 여행, 일렉]   \n",
       "2          [감성, 기분전환, 우울]          [사랑, 인디, 새벽, 발라드, 이별, 잔잔한, 알앤비]   \n",
       "3          [그루브, 새벽, 라운지]        [휴식, 기분전환, 매장, 드라이브, 펍, 퇴근길, 세련된]   \n",
       "4           [추위, 자장가, 카페]           [일상, 매장, 매장음악, 새벽, 추억, 잠, 잔잔한]   \n",
       "...                   ...                                      ...   \n",
       "6896       [찬바람, 집중, 피아노]        [노동요, 겨울감성, 공부, 따스한, 아침, 연주곡, 오후]   \n",
       "6897     [취향저격, 커피, 기분전환]           [봄, 매장음악, 센치, 감성, 휴식, 잔잔한, 위로]   \n",
       "6898        [카페, 매장, 연주곡]        [노동요, 모닝콜, 쌀쌀한, 아침, 출근길, 피아노, 휴식]   \n",
       "6899   [팝송음악, 취향저격, 기분전환]          [신나는, Pop, 감성, 힐링, 잔잔한, 팝송, 휴식]   \n",
       "6900  [기분업, 일렉트로니카, 기분전환]       [하우스, 신나는, 드라이브, EDM, 운동, 파티, 에너지]   \n",
       "\n",
       "                                               als_예측결과 als_히트  \n",
       "0     [장르불문, 그루브, 팝송, 취향저격, 힙합, 세련된, Pop, 소울, 트렌디, 알...    NaN  \n",
       "1     [봄, 매장음악, 새벽, 가을, 우울, 설렘, 드라이브, 분위기, 여행, 감성, 퇴근길]    NaN  \n",
       "2            [봄, 매장음악, 새벽, 가을, 겨울, 밤, 설렘, 드라이브, 여행, 여름]    NaN  \n",
       "3     [저녁, 새벽감성, 매장음악, 매장, 카페, 밤, 감미로운, 분위기, 감성, 여름,...    NaN  \n",
       "4      [노동요, 일상, 주말, 휴일, 집, 커피, 여유, 밤새벽, 잔잔한, 잠들기전, 오후]    NaN  \n",
       "...                                                 ...    ...  \n",
       "6896  [독서, 뉴에이지, 모닝콜, 생각, 공부, 피곤, 밤새벽, 잠, 연주곡, 잠들기전,...    NaN  \n",
       "6897  [봄, 매장음악, 새벽, 가을, 카페, 밤, 분위기, 설렘, 감성, 여름, 퇴근길,...    NaN  \n",
       "6898  [주말, 봄, 산책, 매장음악, 오후, 새벽, 밤, 커피, 여유, 분위기, 비오는날...    NaN  \n",
       "6899  [저녁, 노래, 매장음악, 보컬, 좋은노래, 우울, 설렘, 드라이브, 감성, 여름,...    NaN  \n",
       "6900  [비오는날, 매장음악, 매장, 새벽, 카페, 밤, 분위기, 드라이브, 감성, 여름,...    NaN  \n",
       "\n",
       "[6901 rows x 4 columns]"
      ]
     },
     "execution_count": 27,
     "metadata": {},
     "output_type": "execute_result"
    }
   ],
   "source": [
    "cal_tag_hit_df"
   ]
  },
  {
   "cell_type": "markdown",
   "id": "furnished-finding",
   "metadata": {},
   "source": [
    "## 평가 지표"
   ]
  },
  {
   "cell_type": "code",
   "execution_count": 28,
   "id": "6650697c",
   "metadata": {
    "ExecuteTime": {
     "end_time": "2021-12-31T16:24:52.344302Z",
     "start_time": "2021-12-31T16:24:52.303303Z"
    }
   },
   "outputs": [],
   "source": [
    "val_tag = cal_tag_hit_df['검증용태그'].tolist()\n",
    "als_tag = cal_tag_hit_df['als_예측결과'].tolist()\n",
    "\n",
    "als_hit = []\n",
    "\n",
    "for val,als in zip(val_tag,als_tag):\n",
    "    if len(val) == len(set(val)-set(als)):\n",
    "        als_hit.append(0)\n",
    "    else:\n",
    "        als_hit.append(1)\n",
    "        \n",
    "cal_tag_hit_df['als_히트'] = als_hit"
   ]
  },
  {
   "cell_type": "code",
   "execution_count": 29,
   "id": "careful-salon",
   "metadata": {
    "ExecuteTime": {
     "end_time": "2021-12-31T16:24:52.390304Z",
     "start_time": "2021-12-31T16:24:52.345302Z"
    }
   },
   "outputs": [],
   "source": [
    "als_inter = []\n",
    "\n",
    "for val,als in zip(val_tag,als_tag):\n",
    "    als_inter.append(len(set(val) - (set(val)-set(als))))\n",
    "        \n",
    "cal_tag_hit_df['als_히트_count'] = als_inter"
   ]
  },
  {
   "cell_type": "code",
   "execution_count": 30,
   "id": "00521a2e",
   "metadata": {
    "ExecuteTime": {
     "end_time": "2021-12-31T16:24:52.406302Z",
     "start_time": "2021-12-31T16:24:52.392303Z"
    }
   },
   "outputs": [
    {
     "name": "stdout",
     "output_type": "stream",
     "text": [
      "이 예측 모델의 Hit Rate는 약 79.8% 입니다\n"
     ]
    }
   ],
   "source": [
    "print(f'이 예측 모델의 Hit Rate는 약 {np.round(sum(als_hit)/len(als_hit)*100,1)}% 입니다')"
   ]
  },
  {
   "cell_type": "code",
   "execution_count": 31,
   "id": "2b3e7f47",
   "metadata": {
    "ExecuteTime": {
     "end_time": "2021-12-31T16:24:52.422302Z",
     "start_time": "2021-12-31T16:24:52.407302Z"
    }
   },
   "outputs": [
    {
     "name": "stdout",
     "output_type": "stream",
     "text": [
      "이 예측 모델의 정밀도는 약 15.63% 입니다\n"
     ]
    }
   ],
   "source": [
    "print(f'이 예측 모델의 정밀도는 약 {np.round(sum(als_inter)/10/len(als_inter)*100,2)}% 입니다')"
   ]
  },
  {
   "cell_type": "markdown",
   "id": "d669ac73",
   "metadata": {},
   "source": [
    "## 예측된 태그 직접 보기"
   ]
  },
  {
   "cell_type": "code",
   "execution_count": 32,
   "id": "05be27b7",
   "metadata": {
    "ExecuteTime": {
     "end_time": "2021-12-31T16:24:52.437303Z",
     "start_time": "2021-12-31T16:24:52.423302Z"
    }
   },
   "outputs": [],
   "source": [
    "cal_tag_hit_df['als_히트'] = cal_tag_hit_df['als_히트'].map(lambda x : 'NO' if x == 0 else 'YES')"
   ]
  },
  {
   "cell_type": "code",
   "execution_count": 33,
   "id": "88dd9a7a",
   "metadata": {
    "ExecuteTime": {
     "end_time": "2021-12-31T16:24:52.483302Z",
     "start_time": "2021-12-31T16:24:52.438302Z"
    }
   },
   "outputs": [
    {
     "data": {
      "text/html": [
       "<div>\n",
       "<style scoped>\n",
       "    .dataframe tbody tr th:only-of-type {\n",
       "        vertical-align: middle;\n",
       "    }\n",
       "\n",
       "    .dataframe tbody tr th {\n",
       "        vertical-align: top;\n",
       "    }\n",
       "\n",
       "    .dataframe thead th {\n",
       "        text-align: right;\n",
       "    }\n",
       "</style>\n",
       "<table border=\"1\" class=\"dataframe\">\n",
       "  <thead>\n",
       "    <tr style=\"text-align: right;\">\n",
       "      <th></th>\n",
       "      <th>예측용태그</th>\n",
       "      <th>검증용태그</th>\n",
       "      <th>als_예측결과</th>\n",
       "      <th>als_히트</th>\n",
       "      <th>als_히트_count</th>\n",
       "    </tr>\n",
       "  </thead>\n",
       "  <tbody>\n",
       "    <tr>\n",
       "      <th>0</th>\n",
       "      <td>[트로피컬하우스, 일렉, 팝]</td>\n",
       "      <td>[기분전환, 2017, 드라이브, 운동, Pop, 트렌드, 힐링]</td>\n",
       "      <td>[장르불문, 그루브, 팝송, 취향저격, 힙합, 세련된, Pop, 소울, 트렌디, 알...</td>\n",
       "      <td>YES</td>\n",
       "      <td>1</td>\n",
       "    </tr>\n",
       "    <tr>\n",
       "      <th>1</th>\n",
       "      <td>[기분전환, 댄스, 여름]</td>\n",
       "      <td>[매장음악, 취향저격, 일렉트로니카, 신나는, 드라이브, 여행, 일렉]</td>\n",
       "      <td>[봄, 매장음악, 새벽, 가을, 우울, 설렘, 드라이브, 분위기, 여행, 감성, 퇴근길]</td>\n",
       "      <td>YES</td>\n",
       "      <td>3</td>\n",
       "    </tr>\n",
       "    <tr>\n",
       "      <th>2</th>\n",
       "      <td>[감성, 기분전환, 우울]</td>\n",
       "      <td>[사랑, 인디, 새벽, 발라드, 이별, 잔잔한, 알앤비]</td>\n",
       "      <td>[봄, 매장음악, 새벽, 가을, 겨울, 밤, 설렘, 드라이브, 여행, 여름]</td>\n",
       "      <td>YES</td>\n",
       "      <td>1</td>\n",
       "    </tr>\n",
       "    <tr>\n",
       "      <th>3</th>\n",
       "      <td>[그루브, 새벽, 라운지]</td>\n",
       "      <td>[휴식, 기분전환, 매장, 드라이브, 펍, 퇴근길, 세련된]</td>\n",
       "      <td>[저녁, 새벽감성, 매장음악, 매장, 카페, 밤, 감미로운, 분위기, 감성, 여름,...</td>\n",
       "      <td>YES</td>\n",
       "      <td>2</td>\n",
       "    </tr>\n",
       "    <tr>\n",
       "      <th>4</th>\n",
       "      <td>[추위, 자장가, 카페]</td>\n",
       "      <td>[일상, 매장, 매장음악, 새벽, 추억, 잠, 잔잔한]</td>\n",
       "      <td>[노동요, 일상, 주말, 휴일, 집, 커피, 여유, 밤새벽, 잔잔한, 잠들기전, 오후]</td>\n",
       "      <td>YES</td>\n",
       "      <td>2</td>\n",
       "    </tr>\n",
       "    <tr>\n",
       "      <th>5</th>\n",
       "      <td>[맥주, 알앤비, 퇴근길]</td>\n",
       "      <td>[흥겨운, 그루브, 비트, 파워워킹, 분위기, 드라이브, 출근길]</td>\n",
       "      <td>[한강, 노래, 혼술, 그루브, 보컬, 취향저격, 감각적인, 드라이브, 느낌있는, ...</td>\n",
       "      <td>YES</td>\n",
       "      <td>2</td>\n",
       "    </tr>\n",
       "    <tr>\n",
       "      <th>6</th>\n",
       "      <td>[잠들기전, 연말, 자장가]</td>\n",
       "      <td>[재즈힙합, 저녁, Lofi, 캐럴, 눈, 밤, 오후]</td>\n",
       "      <td>[잔잔한, 일상, 편안한, 공부, 아침, 불면증, 출근길, 힐링, 연주곡, 피아노,...</td>\n",
       "      <td>NO</td>\n",
       "      <td>0</td>\n",
       "    </tr>\n",
       "    <tr>\n",
       "      <th>7</th>\n",
       "      <td>[기분전환, 팝송, 감성]</td>\n",
       "      <td>[그루브, 팝, 그냥, 우울한, Pop, 비오는날, 위로]</td>\n",
       "      <td>[매장음악, 새벽, 추억, 회상, 겨울, 가을, 밤, 설렘, 드라이브, 여행, 여름]</td>\n",
       "      <td>NO</td>\n",
       "      <td>0</td>\n",
       "    </tr>\n",
       "    <tr>\n",
       "      <th>8</th>\n",
       "      <td>[팝, 새벽, Pop]</td>\n",
       "      <td>[새벽에, 몽환한, Chill, 밤, 감성, 잔잔한, 휴식]</td>\n",
       "      <td>[락, 매장음악, 시원한, 보컬, 팝송, 감각적인, 몽환, 드라이브, 소울, 알앤비]</td>\n",
       "      <td>NO</td>\n",
       "      <td>0</td>\n",
       "    </tr>\n",
       "    <tr>\n",
       "      <th>9</th>\n",
       "      <td>[드라이브, 여행, 힐링]</td>\n",
       "      <td>[기분전환, 그루브, 힙합, 트렌디, 알앤비, 오후, 휴식]</td>\n",
       "      <td>[기분전환, 산책, 연말, 매장음악, 새벽, 가을, 겨울, 감성, 휴식, 잔잔한, 까페]</td>\n",
       "      <td>YES</td>\n",
       "      <td>2</td>\n",
       "    </tr>\n",
       "    <tr>\n",
       "      <th>10</th>\n",
       "      <td>[감성, 여행, 드라이브]</td>\n",
       "      <td>[기분전환, 빌보드핫100, 사랑, 팝, 추억, 회상, Pop]</td>\n",
       "      <td>[기분전환, 봄, 산책, 매장음악, 사랑, 새벽, 가을, 겨울, 설렘, 퇴근길]</td>\n",
       "      <td>YES</td>\n",
       "      <td>2</td>\n",
       "    </tr>\n",
       "    <tr>\n",
       "      <th>11</th>\n",
       "      <td>[드라이브, 가족, 댄스]</td>\n",
       "      <td>[스트레스, 기분좋은, 연휴, 비트, 힙합, 운동, 오후]</td>\n",
       "      <td>[연인, 사랑, 슬픔, 회상, 추억, 설렘, 그리움, 발라드, 감성, 이별, 퇴근길...</td>\n",
       "      <td>NO</td>\n",
       "      <td>0</td>\n",
       "    </tr>\n",
       "    <tr>\n",
       "      <th>12</th>\n",
       "      <td>[우울, 어쿠스틱, 혼자]</td>\n",
       "      <td>[산책, 인디, 드라이브, 분위기, 발라드, 띵곡들, 조용한]</td>\n",
       "      <td>[저녁, 새벽감성, 슬픔, 새벽, 달달, 센치, 설렘, 감성, 이별, 퇴근길]</td>\n",
       "      <td>NO</td>\n",
       "      <td>0</td>\n",
       "    </tr>\n",
       "    <tr>\n",
       "      <th>13</th>\n",
       "      <td>[휴식, 매장음악, 힐링]</td>\n",
       "      <td>[봄, 주말, 햇살, 봄바람, 카페, 멜로디, 커피]</td>\n",
       "      <td>[기분전환, 산책, 편안한, 새벽, 가을, 카페, 밤, 여행, 감성, 잔잔한, 까페]</td>\n",
       "      <td>YES</td>\n",
       "      <td>1</td>\n",
       "    </tr>\n",
       "    <tr>\n",
       "      <th>14</th>\n",
       "      <td>[추억, 감미로운, 퇴근길]</td>\n",
       "      <td>[저녁, 사랑, 새벽, 회상, 밤, 설렘, 힐링]</td>\n",
       "      <td>[기분전환, 봄, 매장음악, 새벽, 가을, 회상, 겨울, 밤, 설렘, 분위기, 여행...</td>\n",
       "      <td>YES</td>\n",
       "      <td>4</td>\n",
       "    </tr>\n",
       "    <tr>\n",
       "      <th>15</th>\n",
       "      <td>[쓸쓸함, 인생, 가을]</td>\n",
       "      <td>[낭만, 새벽, 우울, 감성, 이별, 잔잔한, 비오는날]</td>\n",
       "      <td>[드라마, 연인, 인디, 연애, 슬픔, 좋은노래, 달달, 그리움, 발라드, 이별, ...</td>\n",
       "      <td>YES</td>\n",
       "      <td>1</td>\n",
       "    </tr>\n",
       "    <tr>\n",
       "      <th>16</th>\n",
       "      <td>[따뜻한, 매장음악, 카페]</td>\n",
       "      <td>[잔잔한, 기분전환, 저녁, 매장, 편안한, 힐링, 재즈]</td>\n",
       "      <td>[비오는날, 새벽감성, 봄, 새벽, 가을, 밤, 커피, 분위기, 감성, 행복, 오후]</td>\n",
       "      <td>NO</td>\n",
       "      <td>0</td>\n",
       "    </tr>\n",
       "    <tr>\n",
       "      <th>17</th>\n",
       "      <td>[미술관, 명상, 연주곡]</td>\n",
       "      <td>[독서, 모닝콜, 클래식, 공부, 아침, 추위, 피아노]</td>\n",
       "      <td>[독서, 뉴에이지, 모닝콜, 클래식, 북카페, 피아노, 집중, 자장가, 잠, 숙면,...</td>\n",
       "      <td>YES</td>\n",
       "      <td>4</td>\n",
       "    </tr>\n",
       "    <tr>\n",
       "      <th>18</th>\n",
       "      <td>[파티, 신나는, 팝]</td>\n",
       "      <td>[기분전환, 주말, 봄, 댄스, 중독성, 드라이브, 여행]</td>\n",
       "      <td>[노래, 그루브, 보컬, 팝송, 힙합, 감각적인, 드라이브, Pop, 소울, 알앤비...</td>\n",
       "      <td>YES</td>\n",
       "      <td>1</td>\n",
       "    </tr>\n",
       "    <tr>\n",
       "      <th>19</th>\n",
       "      <td>[발라드, 사랑, 여자가수]</td>\n",
       "      <td>[슬픔, 행복, 이소라, 분위기, 감성, 잔잔한, 위로]</td>\n",
       "      <td>[댄스, 슬픔, 추억, 좋은노래, 회상, 설렘, 그리움, 고백, 눈물, 이별, 가요]</td>\n",
       "      <td>YES</td>\n",
       "      <td>1</td>\n",
       "    </tr>\n",
       "    <tr>\n",
       "      <th>20</th>\n",
       "      <td>[자장가, 피아노, 북카페]</td>\n",
       "      <td>[뉴에이지, 피곤, 카페, 잔잔한, 잠들기전, 오후, 위로]</td>\n",
       "      <td>[독서, 뉴에이지, 모닝콜, 낮잠, 명상, 숙면, 잠, 연주곡, 잠들기전, 불면증]</td>\n",
       "      <td>YES</td>\n",
       "      <td>2</td>\n",
       "    </tr>\n",
       "    <tr>\n",
       "      <th>21</th>\n",
       "      <td>[몽환, 집, 산책]</td>\n",
       "      <td>[잔잔한, 가을감성, 매장음악, 꿈, 드라이브, 바람, 행복]</td>\n",
       "      <td>[비오는날, 새벽감성, 봄, 매장음악, 새벽, 가을, 카페, 밤, 분위기, 설렘, ...</td>\n",
       "      <td>YES</td>\n",
       "      <td>1</td>\n",
       "    </tr>\n",
       "    <tr>\n",
       "      <th>22</th>\n",
       "      <td>[매장, 힐링, 기분전환]</td>\n",
       "      <td>[일상, 봄, 카페, 달달한, 여유, 오후, 휴식]</td>\n",
       "      <td>[봄, 산책, 매장음악, 새벽, 가을, 카페, 겨울, 밤, 여행, 감성, 잔잔한, 휴식]</td>\n",
       "      <td>YES</td>\n",
       "      <td>3</td>\n",
       "    </tr>\n",
       "    <tr>\n",
       "      <th>23</th>\n",
       "      <td>[여유, 집중, 추억]</td>\n",
       "      <td>[스트레스, 사랑, 편안한, 회상, 감미롭고, 설렘, 느낌있는]</td>\n",
       "      <td>[노동요, 봄, 주말, 편안한, 오후, 새벽, 카페, 커피, 밤, 잔잔한, 비오는날...</td>\n",
       "      <td>YES</td>\n",
       "      <td>1</td>\n",
       "    </tr>\n",
       "    <tr>\n",
       "      <th>24</th>\n",
       "      <td>[클럽, 일렉, 인기]</td>\n",
       "      <td>[댄스, 하우스, 팝, 최신, 파티, Pop, 일렉트로닉]</td>\n",
       "      <td>[노래, 댄스, 그루브, 취향저격, 좋은노래, 힙합, 느낌있는, 소울, 트렌디, 알...</td>\n",
       "      <td>YES</td>\n",
       "      <td>1</td>\n",
       "    </tr>\n",
       "    <tr>\n",
       "      <th>25</th>\n",
       "      <td>[노동요, 공부, 자장가]</td>\n",
       "      <td>[클래식, 피아노, 침대, 휴식, 연주곡, 잠들기전, 불면증]</td>\n",
       "      <td>[독서, 모닝콜, 잠들기전, 편안한, 집중, 차분한, 공부할때, 연주곡, 피아노, ...</td>\n",
       "      <td>YES</td>\n",
       "      <td>4</td>\n",
       "    </tr>\n",
       "    <tr>\n",
       "      <th>26</th>\n",
       "      <td>[힙합, 그루브, 트렌디]</td>\n",
       "      <td>[리드미컬, 매장음악, 꿀보이스, 카페, 감각적인, 커피, 알앤비]</td>\n",
       "      <td>[클럽, RnB, 취향저격, 감각적인, 느낌있는, 랩, 소울, 일렉, 알앤비, 세련된]</td>\n",
       "      <td>YES</td>\n",
       "      <td>2</td>\n",
       "    </tr>\n",
       "    <tr>\n",
       "      <th>27</th>\n",
       "      <td>[발라드, 하늘, 가을]</td>\n",
       "      <td>[한강, 저녁, 매장, 카페, 드라이브, 감성, 오후]</td>\n",
       "      <td>[봄, 산책, 사랑, 매장음악, 혼자, 새벽, 겨울, 밤, 우울, 설렘, 여행, 감성]</td>\n",
       "      <td>YES</td>\n",
       "      <td>1</td>\n",
       "    </tr>\n",
       "    <tr>\n",
       "      <th>28</th>\n",
       "      <td>[사랑, 회상, 쓸쓸하고]</td>\n",
       "      <td>[저녁, 슬픔, 새벽, 추억, 밤, 그리움, 이별]</td>\n",
       "      <td>[기분전환, 슬픔, 가을, 추억, 겨울, 설렘, 드라이브, 여행, 감성, 이별, 퇴근길]</td>\n",
       "      <td>YES</td>\n",
       "      <td>3</td>\n",
       "    </tr>\n",
       "    <tr>\n",
       "      <th>29</th>\n",
       "      <td>[울고싶은날, 토닥토닥, 새벽]</td>\n",
       "      <td>[새벽감성, 혼자, 우울, 센치, 감성, 비오는날, 위로]</td>\n",
       "      <td>[저녁, 새벽감성, 사랑, 혼자, 슬픔, 달달, 우울, 센치, 설렘, 감성, 이별,...</td>\n",
       "      <td>YES</td>\n",
       "      <td>5</td>\n",
       "    </tr>\n",
       "    <tr>\n",
       "      <th>30</th>\n",
       "      <td>[수험생, 긍정, 토닥토닥]</td>\n",
       "      <td>[기분전환, 스트레스, 시험, 신나는, 수능, 응원, 힘내]</td>\n",
       "      <td>[청량한, 감성자극, 봄캐롤, 지하철, 피곤, 혼자, 지칠때, 방콕, 맑은, 밤새벽...</td>\n",
       "      <td>NO</td>\n",
       "      <td>0</td>\n",
       "    </tr>\n",
       "    <tr>\n",
       "      <th>31</th>\n",
       "      <td>[휴식, 사랑, 공감]</td>\n",
       "      <td>[산책, 인디, 겨울, 드라이브, 발라드, 이별, 잔잔한]</td>\n",
       "      <td>[기분전환, 봄, 혼자, 슬픔, 회상, 가을, 겨울, 설렘, 여행, 감성, 이별, ...</td>\n",
       "      <td>YES</td>\n",
       "      <td>2</td>\n",
       "    </tr>\n",
       "    <tr>\n",
       "      <th>32</th>\n",
       "      <td>[산책, 봄, 산뜻]</td>\n",
       "      <td>[기분전환, 포근한, 잔잔, 회상, 달달, 드라이브, 설렘]</td>\n",
       "      <td>[기분전환, 사랑, 혼자, 가을, 카페, 겨울, 설렘, 분위기, 여행, 감성, 퇴근...</td>\n",
       "      <td>YES</td>\n",
       "      <td>2</td>\n",
       "    </tr>\n",
       "    <tr>\n",
       "      <th>33</th>\n",
       "      <td>[소울, 알앤비, 힐링]</td>\n",
       "      <td>[기분전환, 매장음악, 쓸쓸한, 가을, 카페, 고막힐링, 센치]</td>\n",
       "      <td>[기분전환, 매장음악, 팝, 새벽, 회상, 추억, 밤, 드라이브, 설렘, 여행, 감성]</td>\n",
       "      <td>YES</td>\n",
       "      <td>2</td>\n",
       "    </tr>\n",
       "    <tr>\n",
       "      <th>34</th>\n",
       "      <td>[발라드, 감성, 겨울밤]</td>\n",
       "      <td>[혼자, 쓸쓸한, 겨울, 센치, 외로운, 퇴근길, 위로]</td>\n",
       "      <td>[연인, 겨울감성, 인디, 슬픔, 회상, 달달, 쓸쓸, 추억, 설렘, 그리움, 이별...</td>\n",
       "      <td>NO</td>\n",
       "      <td>0</td>\n",
       "    </tr>\n",
       "    <tr>\n",
       "      <th>35</th>\n",
       "      <td>[맥주, 클럽, 매장]</td>\n",
       "      <td>[기분전환, 댄스, 그루브, 드라이브, 운전, 리듬, 루프탑]</td>\n",
       "      <td>[노래, 띵곡, 보컬, 취향저격, 힙합, 감각적인, 드라이브, 느낌있는, 불금, 여...</td>\n",
       "      <td>YES</td>\n",
       "      <td>1</td>\n",
       "    </tr>\n",
       "    <tr>\n",
       "      <th>36</th>\n",
       "      <td>[추억, 휴가, 댄스]</td>\n",
       "      <td>[여름노래, 드라이브, 바다, 무더위, 여름, 가요, 90년대]</td>\n",
       "      <td>[노래, 혼술, 보컬, 취향저격, 회상, 드라이브, 발라드, 불금, 가요, 띵곡]</td>\n",
       "      <td>YES</td>\n",
       "      <td>2</td>\n",
       "    </tr>\n",
       "    <tr>\n",
       "      <th>37</th>\n",
       "      <td>[생각, 연주곡, 피곤]</td>\n",
       "      <td>[노동요, 작업, 모닝콜, 집중, 커피, 명상, 피아노]</td>\n",
       "      <td>[독서, 뉴에이지, 모닝콜, 포근한, 봄날, 집중, 조용한, 밤새벽, 피아노, 오후]</td>\n",
       "      <td>YES</td>\n",
       "      <td>3</td>\n",
       "    </tr>\n",
       "    <tr>\n",
       "      <th>38</th>\n",
       "      <td>[운전, 시원한노래, 월요병]</td>\n",
       "      <td>[열대야, 주말, 경쾌한, 바다, 무더위, 여름, 휴양지]</td>\n",
       "      <td>[연인, 저녁, 봄, 새벽감성, 매장음악, 혼자, 새벽, 카페, 우울, 센치, 설렘...</td>\n",
       "      <td>NO</td>\n",
       "      <td>0</td>\n",
       "    </tr>\n",
       "    <tr>\n",
       "      <th>39</th>\n",
       "      <td>[우울, 카페, 힐링]</td>\n",
       "      <td>[봄, 포근한, 사랑, 추억, 드라이브, 감성, 잔잔한]</td>\n",
       "      <td>[기분전환, 산책, 매장음악, 새벽, 가을, 겨울, 밤, 여행, 감성, 잔잔한, 비...</td>\n",
       "      <td>YES</td>\n",
       "      <td>2</td>\n",
       "    </tr>\n",
       "  </tbody>\n",
       "</table>\n",
       "</div>"
      ],
      "text/plain": [
       "                예측용태그                                    검증용태그  \\\n",
       "0    [트로피컬하우스, 일렉, 팝]     [기분전환, 2017, 드라이브, 운동, Pop, 트렌드, 힐링]   \n",
       "1      [기분전환, 댄스, 여름]  [매장음악, 취향저격, 일렉트로니카, 신나는, 드라이브, 여행, 일렉]   \n",
       "2      [감성, 기분전환, 우울]          [사랑, 인디, 새벽, 발라드, 이별, 잔잔한, 알앤비]   \n",
       "3      [그루브, 새벽, 라운지]        [휴식, 기분전환, 매장, 드라이브, 펍, 퇴근길, 세련된]   \n",
       "4       [추위, 자장가, 카페]           [일상, 매장, 매장음악, 새벽, 추억, 잠, 잔잔한]   \n",
       "5      [맥주, 알앤비, 퇴근길]     [흥겨운, 그루브, 비트, 파워워킹, 분위기, 드라이브, 출근길]   \n",
       "6     [잠들기전, 연말, 자장가]           [재즈힙합, 저녁, Lofi, 캐럴, 눈, 밤, 오후]   \n",
       "7      [기분전환, 팝송, 감성]         [그루브, 팝, 그냥, 우울한, Pop, 비오는날, 위로]   \n",
       "8        [팝, 새벽, Pop]        [새벽에, 몽환한, Chill, 밤, 감성, 잔잔한, 휴식]   \n",
       "9      [드라이브, 여행, 힐링]        [기분전환, 그루브, 힙합, 트렌디, 알앤비, 오후, 휴식]   \n",
       "10     [감성, 여행, 드라이브]      [기분전환, 빌보드핫100, 사랑, 팝, 추억, 회상, Pop]   \n",
       "11     [드라이브, 가족, 댄스]         [스트레스, 기분좋은, 연휴, 비트, 힙합, 운동, 오후]   \n",
       "12     [우울, 어쿠스틱, 혼자]       [산책, 인디, 드라이브, 분위기, 발라드, 띵곡들, 조용한]   \n",
       "13     [휴식, 매장음악, 힐링]            [봄, 주말, 햇살, 봄바람, 카페, 멜로디, 커피]   \n",
       "14    [추억, 감미로운, 퇴근길]              [저녁, 사랑, 새벽, 회상, 밤, 설렘, 힐링]   \n",
       "15      [쓸쓸함, 인생, 가을]          [낭만, 새벽, 우울, 감성, 이별, 잔잔한, 비오는날]   \n",
       "16    [따뜻한, 매장음악, 카페]         [잔잔한, 기분전환, 저녁, 매장, 편안한, 힐링, 재즈]   \n",
       "17     [미술관, 명상, 연주곡]          [독서, 모닝콜, 클래식, 공부, 아침, 추위, 피아노]   \n",
       "18       [파티, 신나는, 팝]         [기분전환, 주말, 봄, 댄스, 중독성, 드라이브, 여행]   \n",
       "19    [발라드, 사랑, 여자가수]          [슬픔, 행복, 이소라, 분위기, 감성, 잔잔한, 위로]   \n",
       "20    [자장가, 피아노, 북카페]        [뉴에이지, 피곤, 카페, 잔잔한, 잠들기전, 오후, 위로]   \n",
       "21        [몽환, 집, 산책]       [잔잔한, 가을감성, 매장음악, 꿈, 드라이브, 바람, 행복]   \n",
       "22     [매장, 힐링, 기분전환]             [일상, 봄, 카페, 달달한, 여유, 오후, 휴식]   \n",
       "23       [여유, 집중, 추억]      [스트레스, 사랑, 편안한, 회상, 감미롭고, 설렘, 느낌있는]   \n",
       "24       [클럽, 일렉, 인기]         [댄스, 하우스, 팝, 최신, 파티, Pop, 일렉트로닉]   \n",
       "25     [노동요, 공부, 자장가]       [클래식, 피아노, 침대, 휴식, 연주곡, 잠들기전, 불면증]   \n",
       "26     [힙합, 그루브, 트렌디]    [리드미컬, 매장음악, 꿀보이스, 카페, 감각적인, 커피, 알앤비]   \n",
       "27      [발라드, 하늘, 가을]           [한강, 저녁, 매장, 카페, 드라이브, 감성, 오후]   \n",
       "28     [사랑, 회상, 쓸쓸하고]             [저녁, 슬픔, 새벽, 추억, 밤, 그리움, 이별]   \n",
       "29  [울고싶은날, 토닥토닥, 새벽]         [새벽감성, 혼자, 우울, 센치, 감성, 비오는날, 위로]   \n",
       "30    [수험생, 긍정, 토닥토닥]        [기분전환, 스트레스, 시험, 신나는, 수능, 응원, 힘내]   \n",
       "31       [휴식, 사랑, 공감]         [산책, 인디, 겨울, 드라이브, 발라드, 이별, 잔잔한]   \n",
       "32        [산책, 봄, 산뜻]        [기분전환, 포근한, 잔잔, 회상, 달달, 드라이브, 설렘]   \n",
       "33      [소울, 알앤비, 힐링]      [기분전환, 매장음악, 쓸쓸한, 가을, 카페, 고막힐링, 센치]   \n",
       "34     [발라드, 감성, 겨울밤]          [혼자, 쓸쓸한, 겨울, 센치, 외로운, 퇴근길, 위로]   \n",
       "35       [맥주, 클럽, 매장]       [기분전환, 댄스, 그루브, 드라이브, 운전, 리듬, 루프탑]   \n",
       "36       [추억, 휴가, 댄스]      [여름노래, 드라이브, 바다, 무더위, 여름, 가요, 90년대]   \n",
       "37      [생각, 연주곡, 피곤]          [노동요, 작업, 모닝콜, 집중, 커피, 명상, 피아노]   \n",
       "38   [운전, 시원한노래, 월요병]         [열대야, 주말, 경쾌한, 바다, 무더위, 여름, 휴양지]   \n",
       "39       [우울, 카페, 힐링]          [봄, 포근한, 사랑, 추억, 드라이브, 감성, 잔잔한]   \n",
       "\n",
       "                                             als_예측결과 als_히트  als_히트_count  \n",
       "0   [장르불문, 그루브, 팝송, 취향저격, 힙합, 세련된, Pop, 소울, 트렌디, 알...    YES             1  \n",
       "1   [봄, 매장음악, 새벽, 가을, 우울, 설렘, 드라이브, 분위기, 여행, 감성, 퇴근길]    YES             3  \n",
       "2          [봄, 매장음악, 새벽, 가을, 겨울, 밤, 설렘, 드라이브, 여행, 여름]    YES             1  \n",
       "3   [저녁, 새벽감성, 매장음악, 매장, 카페, 밤, 감미로운, 분위기, 감성, 여름,...    YES             2  \n",
       "4    [노동요, 일상, 주말, 휴일, 집, 커피, 여유, 밤새벽, 잔잔한, 잠들기전, 오후]    YES             2  \n",
       "5   [한강, 노래, 혼술, 그루브, 보컬, 취향저격, 감각적인, 드라이브, 느낌있는, ...    YES             2  \n",
       "6   [잔잔한, 일상, 편안한, 공부, 아침, 불면증, 출근길, 힐링, 연주곡, 피아노,...     NO             0  \n",
       "7     [매장음악, 새벽, 추억, 회상, 겨울, 가을, 밤, 설렘, 드라이브, 여행, 여름]     NO             0  \n",
       "8     [락, 매장음악, 시원한, 보컬, 팝송, 감각적인, 몽환, 드라이브, 소울, 알앤비]     NO             0  \n",
       "9   [기분전환, 산책, 연말, 매장음악, 새벽, 가을, 겨울, 감성, 휴식, 잔잔한, 까페]    YES             2  \n",
       "10       [기분전환, 봄, 산책, 매장음악, 사랑, 새벽, 가을, 겨울, 설렘, 퇴근길]    YES             2  \n",
       "11  [연인, 사랑, 슬픔, 회상, 추억, 설렘, 그리움, 발라드, 감성, 이별, 퇴근길...     NO             0  \n",
       "12        [저녁, 새벽감성, 슬픔, 새벽, 달달, 센치, 설렘, 감성, 이별, 퇴근길]     NO             0  \n",
       "13    [기분전환, 산책, 편안한, 새벽, 가을, 카페, 밤, 여행, 감성, 잔잔한, 까페]    YES             1  \n",
       "14  [기분전환, 봄, 매장음악, 새벽, 가을, 회상, 겨울, 밤, 설렘, 분위기, 여행...    YES             4  \n",
       "15  [드라마, 연인, 인디, 연애, 슬픔, 좋은노래, 달달, 그리움, 발라드, 이별, ...    YES             1  \n",
       "16    [비오는날, 새벽감성, 봄, 새벽, 가을, 밤, 커피, 분위기, 감성, 행복, 오후]     NO             0  \n",
       "17  [독서, 뉴에이지, 모닝콜, 클래식, 북카페, 피아노, 집중, 자장가, 잠, 숙면,...    YES             4  \n",
       "18  [노래, 그루브, 보컬, 팝송, 힙합, 감각적인, 드라이브, Pop, 소울, 알앤비...    YES             1  \n",
       "19    [댄스, 슬픔, 추억, 좋은노래, 회상, 설렘, 그리움, 고백, 눈물, 이별, 가요]    YES             1  \n",
       "20     [독서, 뉴에이지, 모닝콜, 낮잠, 명상, 숙면, 잠, 연주곡, 잠들기전, 불면증]    YES             2  \n",
       "21  [비오는날, 새벽감성, 봄, 매장음악, 새벽, 가을, 카페, 밤, 분위기, 설렘, ...    YES             1  \n",
       "22  [봄, 산책, 매장음악, 새벽, 가을, 카페, 겨울, 밤, 여행, 감성, 잔잔한, 휴식]    YES             3  \n",
       "23  [노동요, 봄, 주말, 편안한, 오후, 새벽, 카페, 커피, 밤, 잔잔한, 비오는날...    YES             1  \n",
       "24  [노래, 댄스, 그루브, 취향저격, 좋은노래, 힙합, 느낌있는, 소울, 트렌디, 알...    YES             1  \n",
       "25  [독서, 모닝콜, 잠들기전, 편안한, 집중, 차분한, 공부할때, 연주곡, 피아노, ...    YES             4  \n",
       "26   [클럽, RnB, 취향저격, 감각적인, 느낌있는, 랩, 소울, 일렉, 알앤비, 세련된]    YES             2  \n",
       "27   [봄, 산책, 사랑, 매장음악, 혼자, 새벽, 겨울, 밤, 우울, 설렘, 여행, 감성]    YES             1  \n",
       "28  [기분전환, 슬픔, 가을, 추억, 겨울, 설렘, 드라이브, 여행, 감성, 이별, 퇴근길]    YES             3  \n",
       "29  [저녁, 새벽감성, 사랑, 혼자, 슬픔, 달달, 우울, 센치, 설렘, 감성, 이별,...    YES             5  \n",
       "30  [청량한, 감성자극, 봄캐롤, 지하철, 피곤, 혼자, 지칠때, 방콕, 맑은, 밤새벽...     NO             0  \n",
       "31  [기분전환, 봄, 혼자, 슬픔, 회상, 가을, 겨울, 설렘, 여행, 감성, 이별, ...    YES             2  \n",
       "32  [기분전환, 사랑, 혼자, 가을, 카페, 겨울, 설렘, 분위기, 여행, 감성, 퇴근...    YES             2  \n",
       "33   [기분전환, 매장음악, 팝, 새벽, 회상, 추억, 밤, 드라이브, 설렘, 여행, 감성]    YES             2  \n",
       "34  [연인, 겨울감성, 인디, 슬픔, 회상, 달달, 쓸쓸, 추억, 설렘, 그리움, 이별...     NO             0  \n",
       "35  [노래, 띵곡, 보컬, 취향저격, 힙합, 감각적인, 드라이브, 느낌있는, 불금, 여...    YES             1  \n",
       "36      [노래, 혼술, 보컬, 취향저격, 회상, 드라이브, 발라드, 불금, 가요, 띵곡]    YES             2  \n",
       "37    [독서, 뉴에이지, 모닝콜, 포근한, 봄날, 집중, 조용한, 밤새벽, 피아노, 오후]    YES             3  \n",
       "38  [연인, 저녁, 봄, 새벽감성, 매장음악, 혼자, 새벽, 카페, 우울, 센치, 설렘...     NO             0  \n",
       "39  [기분전환, 산책, 매장음악, 새벽, 가을, 겨울, 밤, 여행, 감성, 잔잔한, 비...    YES             2  "
      ]
     },
     "execution_count": 33,
     "metadata": {},
     "output_type": "execute_result"
    }
   ],
   "source": [
    "cal_tag_hit_df.head(40)"
   ]
  },
  {
   "cell_type": "code",
   "execution_count": null,
   "id": "6c5d0a00",
   "metadata": {},
   "outputs": [],
   "source": []
  }
 ],
 "metadata": {
  "kernelspec": {
   "display_name": "Python 3 (ipykernel)",
   "language": "python",
   "name": "python3"
  },
  "language_info": {
   "codemirror_mode": {
    "name": "ipython",
    "version": 3
   },
   "file_extension": ".py",
   "mimetype": "text/x-python",
   "name": "python",
   "nbconvert_exporter": "python",
   "pygments_lexer": "ipython3",
   "version": "3.7.11"
  },
  "toc": {
   "base_numbering": 1,
   "nav_menu": {},
   "number_sections": true,
   "sideBar": true,
   "skip_h1_title": false,
   "title_cell": "Table of Contents",
   "title_sidebar": "Contents",
   "toc_cell": false,
   "toc_position": {},
   "toc_section_display": true,
   "toc_window_display": false
  },
  "varInspector": {
   "cols": {
    "lenName": 16,
    "lenType": 16,
    "lenVar": 40
   },
   "kernels_config": {
    "python": {
     "delete_cmd_postfix": "",
     "delete_cmd_prefix": "del ",
     "library": "var_list.py",
     "varRefreshCmd": "print(var_dic_list())"
    },
    "r": {
     "delete_cmd_postfix": ") ",
     "delete_cmd_prefix": "rm(",
     "library": "var_list.r",
     "varRefreshCmd": "cat(var_dic_list()) "
    }
   },
   "types_to_exclude": [
    "module",
    "function",
    "builtin_function_or_method",
    "instance",
    "_Feature"
   ],
   "window_display": false
  }
 },
 "nbformat": 4,
 "nbformat_minor": 5
}
