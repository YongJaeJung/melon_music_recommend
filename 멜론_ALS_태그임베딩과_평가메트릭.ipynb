{
 "cells": [
  {
   "cell_type": "markdown",
   "id": "09383984",
   "metadata": {},
   "source": [
    "# 필요한 라이브러리 import"
   ]
  },
  {
   "cell_type": "code",
   "execution_count": 2,
   "id": "c5bfe0a3",
   "metadata": {
    "ExecuteTime": {
     "end_time": "2021-12-29T17:20:46.868098Z",
     "start_time": "2021-12-29T17:20:45.449042Z"
    }
   },
   "outputs": [],
   "source": [
    "import os\n",
    "import json\n",
    "import numpy as np\n",
    "import pandas as pd\n",
    "from scipy import sparse as spr\n",
    "from itertools import chain\n",
    "from collections import defaultdict,Counter\n",
    "import hnswlib\n",
    "import warnings\n",
    "import pickle\n",
    "import matplotlib.pyplot as plt\n",
    "import seaborn as sns\n",
    "from itertools import repeat\n",
    "import random\n",
    "from scipy.stats import skew,kurtosis\n",
    "warnings.filterwarnings(action='ignore')"
   ]
  },
  {
   "cell_type": "markdown",
   "id": "9ae8eb62",
   "metadata": {},
   "source": [
    "# 데이터 로드"
   ]
  },
  {
   "cell_type": "markdown",
   "id": "8084c756",
   "metadata": {},
   "source": [
    "## 노래 데이터 로드"
   ]
  },
  {
   "cell_type": "code",
   "execution_count": 3,
   "id": "alike-angola",
   "metadata": {
    "ExecuteTime": {
     "end_time": "2021-12-29T17:20:53.596743Z",
     "start_time": "2021-12-29T17:20:46.869100Z"
    }
   },
   "outputs": [],
   "source": [
    "with open('./data/song_meta.json',encoding='utf-8-sig') as f:\n",
    "    song_dict = json.load(f)\n",
    "    \n",
    "song_df = pd.DataFrame.from_dict(song_dict)"
   ]
  },
  {
   "cell_type": "markdown",
   "id": "9802f633",
   "metadata": {},
   "source": [
    "## 장르 데이터 로드"
   ]
  },
  {
   "cell_type": "code",
   "execution_count": 4,
   "id": "unique-electric",
   "metadata": {
    "ExecuteTime": {
     "end_time": "2021-12-29T17:20:53.611743Z",
     "start_time": "2021-12-29T17:20:53.597745Z"
    }
   },
   "outputs": [],
   "source": [
    "with open('./data/genre_gn_all.json',encoding='utf-8-sig') as f:\n",
    "    genre_dict = json.load(f)"
   ]
  },
  {
   "cell_type": "markdown",
   "id": "72e4e293",
   "metadata": {},
   "source": [
    "## 플레이리스트 데이터 로드"
   ]
  },
  {
   "cell_type": "code",
   "execution_count": 5,
   "id": "31d7a997",
   "metadata": {
    "ExecuteTime": {
     "end_time": "2021-12-29T17:20:55.113537Z",
     "start_time": "2021-12-29T17:20:53.612744Z"
    }
   },
   "outputs": [],
   "source": [
    "with open('data/train.json',encoding='utf-8-sig') as f:\n",
    "    train_dict = json.load(f)\n",
    "    \n",
    "playlist_df = pd.DataFrame.from_dict(train_dict)"
   ]
  },
  {
   "cell_type": "markdown",
   "id": "7f312eb5",
   "metadata": {},
   "source": [
    "# 데이터 전처리"
   ]
  },
  {
   "cell_type": "markdown",
   "id": "e83fb22c",
   "metadata": {},
   "source": [
    "## 태그 전처리"
   ]
  },
  {
   "cell_type": "markdown",
   "id": "5de1509c",
   "metadata": {},
   "source": [
    "### tag와 tag_id 간 딕셔너리 만들기 "
   ]
  },
  {
   "cell_type": "code",
   "execution_count": 6,
   "id": "d3ee5d86",
   "metadata": {
    "ExecuteTime": {
     "end_time": "2021-12-29T17:20:55.189468Z",
     "start_time": "2021-12-29T17:20:55.114539Z"
    }
   },
   "outputs": [],
   "source": [
    "with open('./data/tag_tag_id_dict.json','r',encoding='utf-8-sig') as f:\n",
    "    tag_to_id = json.load(f)"
   ]
  },
  {
   "cell_type": "code",
   "execution_count": 7,
   "id": "71a24f2c",
   "metadata": {
    "ExecuteTime": {
     "end_time": "2021-12-29T17:20:55.204788Z",
     "start_time": "2021-12-29T17:20:55.190467Z"
    }
   },
   "outputs": [],
   "source": [
    "# id를 tag로\n",
    "id_to_tag = {}\n",
    "    \n",
    "for k,v in tag_to_id.items() :\n",
    "    id_to_tag[v] = k"
   ]
  },
  {
   "cell_type": "markdown",
   "id": "interesting-lloyd",
   "metadata": {},
   "source": [
    "### 태그 사용 빈도수 도출"
   ]
  },
  {
   "cell_type": "code",
   "execution_count": 8,
   "id": "1e8963c5",
   "metadata": {
    "ExecuteTime": {
     "end_time": "2021-12-29T17:20:55.325786Z",
     "start_time": "2021-12-29T17:20:55.205786Z"
    }
   },
   "outputs": [],
   "source": [
    "# train dataframe tag 컬럼의 모든 tag들 (중복포함)\n",
    "tags_all = playlist_df['tags'].tolist()\n",
    "\n",
    "# 태그의 빈도수를 가진 dict, Counter 써도 됨\n",
    "tags_frequency = defaultdict(int)\n",
    "\n",
    "# 특정 tag가 나올 때마다 1더하기\n",
    "for tags in tags_all:\n",
    "    for tag in tags:\n",
    "        tags_frequency[tag] += 1"
   ]
  },
  {
   "cell_type": "code",
   "execution_count": 9,
   "id": "04c26c2d",
   "metadata": {
    "ExecuteTime": {
     "end_time": "2021-12-29T17:20:55.355785Z",
     "start_time": "2021-12-29T17:20:55.326786Z"
    }
   },
   "outputs": [
    {
     "data": {
      "text/html": [
       "<div>\n",
       "<style scoped>\n",
       "    .dataframe tbody tr th:only-of-type {\n",
       "        vertical-align: middle;\n",
       "    }\n",
       "\n",
       "    .dataframe tbody tr th {\n",
       "        vertical-align: top;\n",
       "    }\n",
       "\n",
       "    .dataframe thead th {\n",
       "        text-align: right;\n",
       "    }\n",
       "</style>\n",
       "<table border=\"1\" class=\"dataframe\">\n",
       "  <thead>\n",
       "    <tr style=\"text-align: right;\">\n",
       "      <th></th>\n",
       "      <th>count</th>\n",
       "      <th>mean</th>\n",
       "      <th>std</th>\n",
       "      <th>min</th>\n",
       "      <th>25%</th>\n",
       "      <th>50%</th>\n",
       "      <th>75%</th>\n",
       "      <th>max</th>\n",
       "    </tr>\n",
       "  </thead>\n",
       "  <tbody>\n",
       "    <tr>\n",
       "      <th>빈도</th>\n",
       "      <td>29160.0</td>\n",
       "      <td>16.335082</td>\n",
       "      <td>247.011075</td>\n",
       "      <td>1.0</td>\n",
       "      <td>1.0</td>\n",
       "      <td>1.0</td>\n",
       "      <td>3.0</td>\n",
       "      <td>16465.0</td>\n",
       "    </tr>\n",
       "  </tbody>\n",
       "</table>\n",
       "</div>"
      ],
      "text/plain": [
       "      count       mean         std  min  25%  50%  75%      max\n",
       "빈도  29160.0  16.335082  247.011075  1.0  1.0  1.0  3.0  16465.0"
      ]
     },
     "execution_count": 9,
     "metadata": {},
     "output_type": "execute_result"
    }
   ],
   "source": [
    "# 태그 빈도의 분포를 알아보자\n",
    "tag_freq = pd.DataFrame().from_dict(tags_frequency,orient=\"index\")\n",
    "tag_freq.columns=['빈도']\n",
    "tag_freq.describe().T"
   ]
  },
  {
   "cell_type": "markdown",
   "id": "initial-seller",
   "metadata": {},
   "source": [
    "### 태그 사용 빈도 수의 평균 값(16)을 기준으로 태그를 절삭"
   ]
  },
  {
   "cell_type": "code",
   "execution_count": 10,
   "id": "still-istanbul",
   "metadata": {
    "ExecuteTime": {
     "end_time": "2021-12-29T17:20:56.045488Z",
     "start_time": "2021-12-29T17:20:55.356788Z"
    }
   },
   "outputs": [],
   "source": [
    "# 빈도수로 태그를 filter\n",
    "\n",
    "def filter_func(x):\n",
    "    temp = []\n",
    "    for tag in x:\n",
    "        if tags_frequency[tag] >=16:\n",
    "            temp.append(tag)\n",
    "        else:\n",
    "            pass\n",
    "    return temp\n",
    "            \n",
    "playlist_df['tags'] = playlist_df['tags'].map(filter_func)"
   ]
  },
  {
   "cell_type": "markdown",
   "id": "8645849d",
   "metadata": {},
   "source": [
    "### 행렬을 만들기 위해 tag를 id로 만들어 새 컬럼 생성"
   ]
  },
  {
   "cell_type": "code",
   "execution_count": 11,
   "id": "2c1c7387",
   "metadata": {
    "ExecuteTime": {
     "end_time": "2021-12-29T17:20:56.136163Z",
     "start_time": "2021-12-29T17:20:56.047493Z"
    }
   },
   "outputs": [],
   "source": [
    "# filter된 태그의 id만 남기기\n",
    "playlist_df['tag_ids'] = playlist_df['tags'].map(lambda x : [tag_to_id[v] for v in x])"
   ]
  },
  {
   "cell_type": "markdown",
   "id": "ignored-upper",
   "metadata": {},
   "source": [
    "### 컬럼명 한글화 및 플레이리스트 당 태그의 수 컬럼 생성"
   ]
  },
  {
   "cell_type": "code",
   "execution_count": 12,
   "id": "afraid-television",
   "metadata": {
    "ExecuteTime": {
     "end_time": "2021-12-29T17:20:56.181163Z",
     "start_time": "2021-12-29T17:20:56.137163Z"
    }
   },
   "outputs": [],
   "source": [
    "playlist_df.columns=['태그','플리아이디','플리제목','노래들','좋아요수','변경일자','태그아이디']\n",
    "playlist_df['태그수'] = playlist_df['태그'].map(len)"
   ]
  },
  {
   "cell_type": "markdown",
   "id": "affected-murray",
   "metadata": {},
   "source": [
    "## 플레이리스트의 태그로 예측에 사용 될 태그와 검증에 사용 될 태그로 나누기"
   ]
  },
  {
   "cell_type": "code",
   "execution_count": 13,
   "id": "disabled-forum",
   "metadata": {
    "ExecuteTime": {
     "end_time": "2021-12-29T17:20:56.271161Z",
     "start_time": "2021-12-29T17:20:56.182163Z"
    }
   },
   "outputs": [
    {
     "data": {
      "text/html": [
       "<div>\n",
       "<style scoped>\n",
       "    .dataframe tbody tr th:only-of-type {\n",
       "        vertical-align: middle;\n",
       "    }\n",
       "\n",
       "    .dataframe tbody tr th {\n",
       "        vertical-align: top;\n",
       "    }\n",
       "\n",
       "    .dataframe thead th {\n",
       "        text-align: right;\n",
       "    }\n",
       "</style>\n",
       "<table border=\"1\" class=\"dataframe\">\n",
       "  <thead>\n",
       "    <tr style=\"text-align: right;\">\n",
       "      <th></th>\n",
       "      <th>예측용태그</th>\n",
       "      <th>검증용태그</th>\n",
       "      <th>als_예측결과</th>\n",
       "      <th>als_히트</th>\n",
       "    </tr>\n",
       "  </thead>\n",
       "  <tbody>\n",
       "    <tr>\n",
       "      <th>0</th>\n",
       "      <td>[트로피컬하우스, 드라이브, 일렉]</td>\n",
       "      <td>[팝, 힐링, 운동, 트렌드, Pop, 2017, 기분전환]</td>\n",
       "      <td>NaN</td>\n",
       "      <td>NaN</td>\n",
       "    </tr>\n",
       "  </tbody>\n",
       "</table>\n",
       "</div>"
      ],
      "text/plain": [
       "                 예측용태그                              검증용태그 als_예측결과 als_히트\n",
       "0  [트로피컬하우스, 드라이브, 일렉]  [팝, 힐링, 운동, 트렌드, Pop, 2017, 기분전환]      NaN    NaN"
      ]
     },
     "execution_count": 13,
     "metadata": {},
     "output_type": "execute_result"
    }
   ],
   "source": [
    "# 3:7 비율로 랜덤으로 나눌 것이기 때문에 태그수가 3 보다 커야 한다.\n",
    "origin_tags = playlist_df[playlist_df['태그수']>9]['태그'].tolist()\n",
    "\n",
    "train_tags = []\n",
    "test_tags = []\n",
    "\n",
    "# 3:7비율로 나누기\n",
    "for tags in origin_tags:\n",
    "    tag_3p = len(tags)//3\n",
    "    train_tag = random.sample(tags, tag_3p)\n",
    "    test_tag = list(set(tags)-set(train_tag))\n",
    "    train_tags.append(train_tag)\n",
    "    test_tags.append(test_tag)\n",
    "    \n",
    "cal_tag_hit_df = pd.DataFrame(columns=['예측용태그','검증용태그','als_예측결과','als_히트'])\n",
    "\n",
    "cal_tag_hit_df['예측용태그'] = train_tags\n",
    "cal_tag_hit_df['검증용태그'] = test_tags\n",
    "cal_tag_hit_df.head(1)"
   ]
  },
  {
   "cell_type": "markdown",
   "id": "8d25f5e7",
   "metadata": {},
   "source": [
    "# 세부장르 전처리"
   ]
  },
  {
   "cell_type": "markdown",
   "id": "ecc4df4b",
   "metadata": {},
   "source": [
    "## 노래 데이터 프레임 컬럼명 한글화"
   ]
  },
  {
   "cell_type": "code",
   "execution_count": 14,
   "id": "grateful-identity",
   "metadata": {
    "ExecuteTime": {
     "end_time": "2021-12-29T17:20:56.286161Z",
     "start_time": "2021-12-29T17:20:56.272163Z"
    }
   },
   "outputs": [],
   "source": [
    "# 노래 데이터 프레임 컬럼명 한글화\n",
    "song_df.colums=['세부장르','발매일','앨범명','앨범ID','가수ID','노래명','대장르','가수명','노래ID']"
   ]
  },
  {
   "cell_type": "markdown",
   "id": "disturbed-desert",
   "metadata": {},
   "source": [
    "## 세부 장르 이름에 대장르의 이름 넣기"
   ]
  },
  {
   "cell_type": "code",
   "execution_count": 15,
   "id": "listed-monthly",
   "metadata": {
    "ExecuteTime": {
     "end_time": "2021-12-29T17:20:56.376535Z",
     "start_time": "2021-12-29T17:20:56.287162Z"
    }
   },
   "outputs": [],
   "source": [
    "genre_dict['GN9000'] = '기타장르'\n",
    "\n",
    "genre_big = {}\n",
    "\n",
    "# 모든 장르 딕셔너리를 돌면서\n",
    "for k,v in genre_dict.items():\n",
    "    \n",
    "    # 맨 뒤 두자리가 00이면 대장류로 분류\n",
    "    if k[-2:] == '00':\n",
    "        \n",
    "        # 맨앞 네자리를 키로 하는 대장류 딕셔너리 값 추가\n",
    "        genre_big[k[:4]] = v\n",
    "\n",
    "genre_detail_dict = {}\n",
    "\n",
    "# 모든 딕셔너리를 돌면서\n",
    "for k,v in genre_dict.items():\n",
    "    \n",
    "    # 맨뒤 두자리가 00이 아니면 대장류가 아닌거임!\n",
    "    if k[-2:] != '00':\n",
    "        \n",
    "        # 그럴떈 아까만든 대장르 딕셔너리의 대장류 이름을 추가해서 이름을 수정해서 다시 넣어줌\n",
    "        new_value = genre_big[k[:4]]+'_'+v\n",
    "        genre_detail_dict[k] = new_value\n",
    "        \n",
    "genre_big_dict = {}\n",
    "\n",
    "for k,v in genre_big.items():\n",
    "    genre_big_dict[k+'00'] = v"
   ]
  },
  {
   "cell_type": "markdown",
   "id": "ff6232e1",
   "metadata": {},
   "source": [
    "## 세부장르ID와 CODE간 딕셔너리 생성"
   ]
  },
  {
   "cell_type": "code",
   "execution_count": 16,
   "id": "flexible-tumor",
   "metadata": {
    "ExecuteTime": {
     "end_time": "2021-12-29T17:20:56.391543Z",
     "start_time": "2021-12-29T17:20:56.377534Z"
    }
   },
   "outputs": [],
   "source": [
    "# 세부장르의 id를 세부장르 코드로\n",
    "genre_detail_id_to_code = {}\n",
    "\n",
    "# 세부장르의 코드를 세부장르의 id로\n",
    "genre_detail_code_to_id = {}\n",
    "\n",
    "for i,v in enumerate(list(genre_detail_dict.keys())):\n",
    "    genre_detail_id_to_code[i] = v\n",
    "    \n",
    "for i,v in enumerate(list(genre_detail_dict.keys())):\n",
    "    genre_detail_code_to_id[v] = i"
   ]
  },
  {
   "cell_type": "markdown",
   "id": "455434b6",
   "metadata": {},
   "source": [
    "## 노래ID와 세부장르ID간 딕셔너리 생성"
   ]
  },
  {
   "cell_type": "code",
   "execution_count": 17,
   "id": "disciplinary-parish",
   "metadata": {
    "ExecuteTime": {
     "end_time": "2021-12-29T17:20:57.006542Z",
     "start_time": "2021-12-29T17:20:56.392543Z"
    }
   },
   "outputs": [],
   "source": [
    "# 노래의 ID를 KEY 세부장르의 ID리스트를 ITEM으로 하는 딕셔너리 생성 \n",
    "\n",
    "song_genre_detail_dict = defaultdict(list)\n",
    "\n",
    "for codes,id in zip(song_df['song_gn_dtl_gnr_basket'].tolist(),song_df['id'].tolist()):\n",
    "    for code in codes:\n",
    "        song_genre_detail_dict[id].append(genre_detail_code_to_id[code])"
   ]
  },
  {
   "cell_type": "markdown",
   "id": "restricted-casting",
   "metadata": {},
   "source": [
    "## 플레이리스트 각 노래마다 달린 세부장르의 ID를 전부 플레이리스트에 추가"
   ]
  },
  {
   "cell_type": "code",
   "execution_count": 18,
   "id": "material-agenda",
   "metadata": {
    "ExecuteTime": {
     "end_time": "2021-12-29T17:21:00.322078Z",
     "start_time": "2021-12-29T17:20:57.007545Z"
    }
   },
   "outputs": [
    {
     "data": {
      "text/html": [
       "<div>\n",
       "<style scoped>\n",
       "    .dataframe tbody tr th:only-of-type {\n",
       "        vertical-align: middle;\n",
       "    }\n",
       "\n",
       "    .dataframe tbody tr th {\n",
       "        vertical-align: top;\n",
       "    }\n",
       "\n",
       "    .dataframe thead th {\n",
       "        text-align: right;\n",
       "    }\n",
       "</style>\n",
       "<table border=\"1\" class=\"dataframe\">\n",
       "  <thead>\n",
       "    <tr style=\"text-align: right;\">\n",
       "      <th></th>\n",
       "      <th>태그</th>\n",
       "      <th>플리아이디</th>\n",
       "      <th>플리제목</th>\n",
       "      <th>노래들</th>\n",
       "      <th>좋아요수</th>\n",
       "      <th>변경일자</th>\n",
       "      <th>태그아이디</th>\n",
       "      <th>태그수</th>\n",
       "      <th>세부장르</th>\n",
       "    </tr>\n",
       "  </thead>\n",
       "  <tbody>\n",
       "    <tr>\n",
       "      <th>0</th>\n",
       "      <td>[락]</td>\n",
       "      <td>61281</td>\n",
       "      <td>여행같은 음악</td>\n",
       "      <td>[525514, 129701, 383374, 562083, 297861, 13954...</td>\n",
       "      <td>71</td>\n",
       "      <td>2013-12-19 18:36:19.000</td>\n",
       "      <td>[25304]</td>\n",
       "      <td>1</td>\n",
       "      <td>[97, 96, 48, 49, 56, 67, 60, 56, 68, 48, 49, 5...</td>\n",
       "    </tr>\n",
       "  </tbody>\n",
       "</table>\n",
       "</div>"
      ],
      "text/plain": [
       "    태그  플리아이디     플리제목                                                노래들  \\\n",
       "0  [락]  61281  여행같은 음악  [525514, 129701, 383374, 562083, 297861, 13954...   \n",
       "\n",
       "   좋아요수                     변경일자    태그아이디  태그수  \\\n",
       "0    71  2013-12-19 18:36:19.000  [25304]    1   \n",
       "\n",
       "                                                세부장르  \n",
       "0  [97, 96, 48, 49, 56, 67, 60, 56, 68, 48, 49, 5...  "
      ]
     },
     "execution_count": 18,
     "metadata": {},
     "output_type": "execute_result"
    }
   ],
   "source": [
    "# 플레이리스트의 모든 노래의 세부장르를 모아서 새로운 컬럼으로 생성\n",
    "\n",
    "def fetcher(x):\n",
    "    temp = []\n",
    "    for song in x:\n",
    "        genre_ids = song_genre_detail_dict[song]\n",
    "        for id in genre_ids:\n",
    "            temp.append(id)\n",
    "    return temp\n",
    "\n",
    "playlist_df['세부장르'] = playlist_df['노래들'].map(fetcher)\n",
    "playlist_df.head(1)"
   ]
  },
  {
   "cell_type": "markdown",
   "id": "1ab41e1a",
   "metadata": {},
   "source": [
    "## 태그ID와 세부장르ID들 간 딕셔너리 생성"
   ]
  },
  {
   "cell_type": "code",
   "execution_count": 19,
   "id": "regulated-native",
   "metadata": {
    "ExecuteTime": {
     "end_time": "2021-12-29T17:21:01.072076Z",
     "start_time": "2021-12-29T17:21:00.323078Z"
    }
   },
   "outputs": [],
   "source": [
    "# {tag_Id:genre_detail_ids}\n",
    "\n",
    "tag_id_to_genre_detail_ids = defaultdict(list)\n",
    "\n",
    "for ids,genres in zip(playlist_df['태그아이디'].tolist(),playlist_df['세부장르'].tolist()):\n",
    "    for id in ids:\n",
    "        tag_id_to_genre_detail_ids[id].extend(genres)"
   ]
  },
  {
   "cell_type": "markdown",
   "id": "b79b2e8f",
   "metadata": {},
   "source": [
    "# 태그-세부장르 간 csr_matrix만들기"
   ]
  },
  {
   "cell_type": "code",
   "execution_count": 20,
   "id": "incredible-hartford",
   "metadata": {
    "ExecuteTime": {
     "end_time": "2021-12-29T17:21:03.666852Z",
     "start_time": "2021-12-29T17:21:01.073078Z"
    }
   },
   "outputs": [],
   "source": [
    "# 세부장르의 빈도수를 카운트해서 tag_id_to_genre_detail_id의 value를 바꿔줌\n",
    "\n",
    "for k,v in tag_id_to_genre_detail_ids.items():\n",
    "    tag_id_to_genre_detail_ids[k] = dict(Counter(v))"
   ]
  },
  {
   "cell_type": "code",
   "execution_count": 21,
   "id": "95b2dd9b",
   "metadata": {
    "ExecuteTime": {
     "end_time": "2021-12-29T17:21:05.137236Z",
     "start_time": "2021-12-29T17:21:03.667857Z"
    }
   },
   "outputs": [],
   "source": [
    "# 딕셔너리의 빈도를 min_max_scaling하고 1을 더함 -> 0이 되는것은 싫다!\n",
    "for k,value_dict in tag_id_to_genre_detail_ids.items():\n",
    "    max_val = np.max(list(value_dict.values()))\n",
    "    min_val = np.min(list(value_dict.values()))\n",
    "    for key,value in value_dict.items():\n",
    "        value_dict[key] = np.round((value-min_val)/(max_val-min_val),3)"
   ]
  },
  {
   "cell_type": "markdown",
   "id": "a666e219",
   "metadata": {},
   "source": [
    "## 만든 딕셔너리를 이용해서 csr_matrix 생성"
   ]
  },
  {
   "cell_type": "code",
   "execution_count": 22,
   "id": "a9ada042",
   "metadata": {
    "ExecuteTime": {
     "end_time": "2021-12-29T17:21:05.197235Z",
     "start_time": "2021-12-29T17:21:05.138236Z"
    }
   },
   "outputs": [],
   "source": [
    "# 행,열,데이터 list를 생성\n",
    "row = []\n",
    "col = []\n",
    "dat = []\n",
    "\n",
    "for k,v in tag_id_to_genre_detail_ids.items():\n",
    "    for vk,vv in v.items():\n",
    "        row.append(k)\n",
    "        col.append(vk)\n",
    "        dat.append(vv)"
   ]
  },
  {
   "cell_type": "code",
   "execution_count": 23,
   "id": "887d40e4",
   "metadata": {
    "ExecuteTime": {
     "end_time": "2021-12-29T17:21:05.257879Z",
     "start_time": "2021-12-29T17:21:05.198235Z"
    }
   },
   "outputs": [],
   "source": [
    "# 29160의 태그의 가짓수, 224는 세부장르의 가짓수\n",
    "A = spr.csr_matrix((dat, (row, col)), shape=(29160, 224))\n",
    "\n",
    "# 행렬분해 수행을 위해 자료형 변경\n",
    "A = A.astype(float)"
   ]
  },
  {
   "cell_type": "markdown",
   "id": "887a222b",
   "metadata": {},
   "source": [
    "# ALS로 태그 임베딩"
   ]
  },
  {
   "cell_type": "markdown",
   "id": "a727ebe5",
   "metadata": {},
   "source": [
    "## 태그-세부장르 행렬의 ALS 수행 "
   ]
  },
  {
   "cell_type": "raw",
   "id": "surface-provision",
   "metadata": {
    "ExecuteTime": {
     "end_time": "2021-11-21T00:47:31.348945Z",
     "start_time": "2021-11-21T00:47:28.133374Z"
    }
   },
   "source": [
    "from implicit.als import AlternatingLeastSquares\n",
    "\n",
    "als_model = AlternatingLeastSquares()\n",
    "als_model.fit(A)\n",
    "als_vectors = als_model.item_factors\n",
    "data_len,dim = als_vectors.shape\n",
    "\n",
    "# als tag의 벡터들을 저장\n",
    "with open('./data/als_tag_100_vectors.pickle', 'wb') as f:\n",
    "    pickle.dump(als_vectors,f)"
   ]
  },
  {
   "cell_type": "code",
   "execution_count": 24,
   "id": "acoustic-trainer",
   "metadata": {
    "ExecuteTime": {
     "end_time": "2021-12-29T17:21:05.393878Z",
     "start_time": "2021-12-29T17:21:05.258878Z"
    }
   },
   "outputs": [],
   "source": [
    "# als tag의 벡터들을 로드\n",
    "with open('./data/als_tag_100_vectors.pickle', 'rb') as f:\n",
    "    als_vectors = pickle.load(f)"
   ]
  },
  {
   "cell_type": "markdown",
   "id": "fe093c65",
   "metadata": {
    "ExecuteTime": {
     "end_time": "2021-11-16T11:23:06.551114Z",
     "start_time": "2021-11-16T11:23:06.538548Z"
    }
   },
   "source": [
    "## cosine유사도를 이용해서 KNN 모델 생성"
   ]
  },
  {
   "cell_type": "raw",
   "id": "hungarian-tooth",
   "metadata": {
    "ExecuteTime": {
     "end_time": "2021-11-21T01:00:15.906837Z",
     "start_time": "2021-11-21T00:48:42.739117Z"
    }
   },
   "source": [
    "# 100차원으로 index 생성 및 초기화\n",
    "als_p = hnswlib.Index(space='cosine', dim=dim)  \n",
    "als_p.init_index(max_elements=data_len, ef_construction=500, M=100)\n",
    "\n",
    "# 짐재행렬 추가\n",
    "als_p.add_items(als_vectors,np.arange(data_len))\n",
    "\n",
    "#svd knn모델 저장\n",
    "with open('./data/als_100_knn_model.pickle', 'wb') as f:\n",
    "    pickle.dump(als_p,f)"
   ]
  },
  {
   "cell_type": "code",
   "execution_count": 25,
   "id": "appropriate-clear",
   "metadata": {
    "ExecuteTime": {
     "end_time": "2021-12-29T17:21:05.500143Z",
     "start_time": "2021-12-29T17:21:05.394879Z"
    }
   },
   "outputs": [],
   "source": [
    "#svd knn모델 load\n",
    "with open('./data/als_100_knn_model.pickle', 'rb') as f:\n",
    "    als_p = pickle.load(f)"
   ]
  },
  {
   "cell_type": "markdown",
   "id": "imposed-sense",
   "metadata": {},
   "source": [
    "# 태그 예측"
   ]
  },
  {
   "cell_type": "markdown",
   "id": "hourly-spectrum",
   "metadata": {},
   "source": [
    "## 예측 수행 및 수행 결과 저장"
   ]
  },
  {
   "cell_type": "code",
   "execution_count": 26,
   "id": "a32967bf",
   "metadata": {
    "ExecuteTime": {
     "end_time": "2021-12-29T17:21:05.515143Z",
     "start_time": "2021-12-29T17:21:05.501142Z"
    }
   },
   "outputs": [],
   "source": [
    "# svd_knn_model로 태그를 예측하여 예측된 결과의 list를 저장하는 함수\n",
    "\n",
    "def tag_als(x):\n",
    "    target_ids = [tag_to_id[t] for t in x]\n",
    "    \n",
    "    vectors = np.zeros((100,1))\n",
    "    \n",
    "    for id in target_ids:\n",
    "        vectors = vectors+als_vectors[id]\n",
    "    \n",
    "    labels, distances = als_p.knn_query(vectors/len(target_ids), k = 10+len(x))\n",
    "\n",
    "    ids = [label for label in labels[0]]\n",
    "   \n",
    "    return list(set([id_to_tag[tag] for tag in ids])-set(x))"
   ]
  },
  {
   "cell_type": "code",
   "execution_count": 27,
   "id": "8229231a",
   "metadata": {
    "ExecuteTime": {
     "end_time": "2021-12-29T17:21:17.321141Z",
     "start_time": "2021-12-29T17:21:05.516143Z"
    }
   },
   "outputs": [],
   "source": [
    "# 예측수행\n",
    "cal_tag_hit_df['als_예측결과'] = cal_tag_hit_df['예측용태그'].map(tag_als)"
   ]
  },
  {
   "cell_type": "code",
   "execution_count": 28,
   "id": "faced-tanzania",
   "metadata": {
    "ExecuteTime": {
     "end_time": "2021-12-29T17:21:17.336144Z",
     "start_time": "2021-12-29T17:21:17.322141Z"
    }
   },
   "outputs": [
    {
     "data": {
      "text/html": [
       "<div>\n",
       "<style scoped>\n",
       "    .dataframe tbody tr th:only-of-type {\n",
       "        vertical-align: middle;\n",
       "    }\n",
       "\n",
       "    .dataframe tbody tr th {\n",
       "        vertical-align: top;\n",
       "    }\n",
       "\n",
       "    .dataframe thead th {\n",
       "        text-align: right;\n",
       "    }\n",
       "</style>\n",
       "<table border=\"1\" class=\"dataframe\">\n",
       "  <thead>\n",
       "    <tr style=\"text-align: right;\">\n",
       "      <th></th>\n",
       "      <th>예측용태그</th>\n",
       "      <th>검증용태그</th>\n",
       "      <th>als_예측결과</th>\n",
       "      <th>als_히트</th>\n",
       "    </tr>\n",
       "  </thead>\n",
       "  <tbody>\n",
       "    <tr>\n",
       "      <th>0</th>\n",
       "      <td>[트로피컬하우스, 드라이브, 일렉]</td>\n",
       "      <td>[팝, 힐링, 운동, 트렌드, Pop, 2017, 기분전환]</td>\n",
       "      <td>[좋은노래, 팝송, 댄스, 세련된, 힙합, 띵곡, 취향저격, 클럽, 그루브, 소울,...</td>\n",
       "      <td>NaN</td>\n",
       "    </tr>\n",
       "    <tr>\n",
       "      <th>1</th>\n",
       "      <td>[취향저격, 신나는, 여행]</td>\n",
       "      <td>[매장음악, 댄스, 여름, 드라이브, 일렉, 일렉트로니카, 기분전환]</td>\n",
       "      <td>[회상, 매장음악, 추억, 겨울, 드라이브, 운동, 감성, 사랑, 퇴근길, 설렘, ...</td>\n",
       "      <td>NaN</td>\n",
       "    </tr>\n",
       "    <tr>\n",
       "      <th>2</th>\n",
       "      <td>[사랑, 감성, 우울]</td>\n",
       "      <td>[새벽, 인디, 발라드, 잔잔한, 이별, 알앤비, 기분전환]</td>\n",
       "      <td>[매장음악, 설렘, 여행, 겨울, 퇴근길, 새벽, 가을, 혼자, 봄, 기분전환]</td>\n",
       "      <td>NaN</td>\n",
       "    </tr>\n",
       "    <tr>\n",
       "      <th>3</th>\n",
       "      <td>[드라이브, 라운지, 기분전환]</td>\n",
       "      <td>[세련된, 휴식, 펍, 매장, 그루브, 퇴근길, 새벽]</td>\n",
       "      <td>[매장음악, 여행, 비오는날, 여름, 감성, 매장, 카페, 새벽, 가을, 분위기, 밤]</td>\n",
       "      <td>NaN</td>\n",
       "    </tr>\n",
       "    <tr>\n",
       "      <th>4</th>\n",
       "      <td>[잠, 추억, 잔잔한]</td>\n",
       "      <td>[매장음악, 일상, 추위, 매장, 카페, 자장가, 새벽]</td>\n",
       "      <td>[주말, 휴식, 비오는날, 힐링, 감성, 차분한, 카페, 배경음악, 노동요, 새벽,...</td>\n",
       "      <td>NaN</td>\n",
       "    </tr>\n",
       "    <tr>\n",
       "      <th>...</th>\n",
       "      <td>...</td>\n",
       "      <td>...</td>\n",
       "      <td>...</td>\n",
       "      <td>...</td>\n",
       "    </tr>\n",
       "    <tr>\n",
       "      <th>6896</th>\n",
       "      <td>[찬바람, 공부, 연주곡]</td>\n",
       "      <td>[따스한, 집중, 오후, 아침, 노동요, 피아노, 겨울감성]</td>\n",
       "      <td>[일상, 잠들기전, 뉴에이지, 집중, 불면증, 밤새벽, 피곤, 카페, 피아노, 모닝...</td>\n",
       "      <td>NaN</td>\n",
       "    </tr>\n",
       "    <tr>\n",
       "      <th>6897</th>\n",
       "      <td>[휴식, 기분전환, 커피]</td>\n",
       "      <td>[매장음악, 위로, 취향저격, 감성, 잔잔한, 센치, 봄]</td>\n",
       "      <td>[여행, 비오는날, 감성, 산책, 카페, 잔잔한, 새벽, 가을, 봄, 밤]</td>\n",
       "      <td>NaN</td>\n",
       "    </tr>\n",
       "    <tr>\n",
       "      <th>6898</th>\n",
       "      <td>[휴식, 카페, 쌀쌀한]</td>\n",
       "      <td>[매장, 연주곡, 출근길, 아침, 노동요, 모닝콜, 피아노]</td>\n",
       "      <td>[설렘, 비오는날, 겨울, 감성, 분위기, 퇴근길, 행복, 새벽, 가을, 커피, 봄...</td>\n",
       "      <td>NaN</td>\n",
       "    </tr>\n",
       "    <tr>\n",
       "      <th>6899</th>\n",
       "      <td>[팝송, 취향저격, 감성]</td>\n",
       "      <td>[신나는, 힐링, 휴식, Pop, 잔잔한, 팝송음악, 기분전환]</td>\n",
       "      <td>[회상, 띵곡, 감각적인, 드라이브, 휴가, 퇴근길, 우울, 노래, 보컬, 설렘]</td>\n",
       "      <td>NaN</td>\n",
       "    </tr>\n",
       "    <tr>\n",
       "      <th>6900</th>\n",
       "      <td>[하우스, 에너지, EDM]</td>\n",
       "      <td>[신나는, 기분업, 드라이브, 운동, 파티, 일렉트로니카, 기분전환]</td>\n",
       "      <td>[리듬, RnB, electronica, 힙합, 내적댄스, 클럽, 그루브, 일렉, ...</td>\n",
       "      <td>NaN</td>\n",
       "    </tr>\n",
       "  </tbody>\n",
       "</table>\n",
       "<p>6901 rows × 4 columns</p>\n",
       "</div>"
      ],
      "text/plain": [
       "                    예측용태그                                   검증용태그  \\\n",
       "0     [트로피컬하우스, 드라이브, 일렉]       [팝, 힐링, 운동, 트렌드, Pop, 2017, 기분전환]   \n",
       "1         [취향저격, 신나는, 여행]  [매장음악, 댄스, 여름, 드라이브, 일렉, 일렉트로니카, 기분전환]   \n",
       "2            [사랑, 감성, 우울]       [새벽, 인디, 발라드, 잔잔한, 이별, 알앤비, 기분전환]   \n",
       "3       [드라이브, 라운지, 기분전환]          [세련된, 휴식, 펍, 매장, 그루브, 퇴근길, 새벽]   \n",
       "4            [잠, 추억, 잔잔한]         [매장음악, 일상, 추위, 매장, 카페, 자장가, 새벽]   \n",
       "...                   ...                                     ...   \n",
       "6896       [찬바람, 공부, 연주곡]       [따스한, 집중, 오후, 아침, 노동요, 피아노, 겨울감성]   \n",
       "6897       [휴식, 기분전환, 커피]        [매장음악, 위로, 취향저격, 감성, 잔잔한, 센치, 봄]   \n",
       "6898        [휴식, 카페, 쌀쌀한]       [매장, 연주곡, 출근길, 아침, 노동요, 모닝콜, 피아노]   \n",
       "6899       [팝송, 취향저격, 감성]     [신나는, 힐링, 휴식, Pop, 잔잔한, 팝송음악, 기분전환]   \n",
       "6900      [하우스, 에너지, EDM]  [신나는, 기분업, 드라이브, 운동, 파티, 일렉트로니카, 기분전환]   \n",
       "\n",
       "                                               als_예측결과 als_히트  \n",
       "0     [좋은노래, 팝송, 댄스, 세련된, 힙합, 띵곡, 취향저격, 클럽, 그루브, 소울,...    NaN  \n",
       "1     [회상, 매장음악, 추억, 겨울, 드라이브, 운동, 감성, 사랑, 퇴근길, 설렘, ...    NaN  \n",
       "2          [매장음악, 설렘, 여행, 겨울, 퇴근길, 새벽, 가을, 혼자, 봄, 기분전환]    NaN  \n",
       "3      [매장음악, 여행, 비오는날, 여름, 감성, 매장, 카페, 새벽, 가을, 분위기, 밤]    NaN  \n",
       "4     [주말, 휴식, 비오는날, 힐링, 감성, 차분한, 카페, 배경음악, 노동요, 새벽,...    NaN  \n",
       "...                                                 ...    ...  \n",
       "6896  [일상, 잠들기전, 뉴에이지, 집중, 불면증, 밤새벽, 피곤, 카페, 피아노, 모닝...    NaN  \n",
       "6897          [여행, 비오는날, 감성, 산책, 카페, 잔잔한, 새벽, 가을, 봄, 밤]    NaN  \n",
       "6898  [설렘, 비오는날, 겨울, 감성, 분위기, 퇴근길, 행복, 새벽, 가을, 커피, 봄...    NaN  \n",
       "6899      [회상, 띵곡, 감각적인, 드라이브, 휴가, 퇴근길, 우울, 노래, 보컬, 설렘]    NaN  \n",
       "6900  [리듬, RnB, electronica, 힙합, 내적댄스, 클럽, 그루브, 일렉, ...    NaN  \n",
       "\n",
       "[6901 rows x 4 columns]"
      ]
     },
     "execution_count": 28,
     "metadata": {},
     "output_type": "execute_result"
    }
   ],
   "source": [
    "cal_tag_hit_df"
   ]
  },
  {
   "cell_type": "markdown",
   "id": "furnished-finding",
   "metadata": {},
   "source": [
    "## 평가 지표"
   ]
  },
  {
   "cell_type": "code",
   "execution_count": 29,
   "id": "6650697c",
   "metadata": {
    "ExecuteTime": {
     "end_time": "2021-12-29T17:21:17.366143Z",
     "start_time": "2021-12-29T17:21:17.340141Z"
    }
   },
   "outputs": [],
   "source": [
    "val_tag = cal_tag_hit_df['검증용태그'].tolist()\n",
    "als_tag = cal_tag_hit_df['als_예측결과'].tolist()\n",
    "\n",
    "als_hit = []\n",
    "\n",
    "for val,als in zip(val_tag,als_tag):\n",
    "    if len(val) == len(set(val)-set(als)):\n",
    "        als_hit.append(0)\n",
    "    else:\n",
    "        als_hit.append(1)\n",
    "        \n",
    "cal_tag_hit_df['als_히트'] = als_hit"
   ]
  },
  {
   "cell_type": "code",
   "execution_count": 30,
   "id": "careful-salon",
   "metadata": {
    "ExecuteTime": {
     "end_time": "2021-12-29T17:21:17.396141Z",
     "start_time": "2021-12-29T17:21:17.367141Z"
    }
   },
   "outputs": [],
   "source": [
    "als_inter = []\n",
    "\n",
    "for val,als in zip(val_tag,als_tag):\n",
    "    als_inter.append(len(set(val) - (set(val)-set(als))))\n",
    "        \n",
    "cal_tag_hit_df['als_히트_count'] = als_inter"
   ]
  },
  {
   "cell_type": "code",
   "execution_count": 31,
   "id": "00521a2e",
   "metadata": {
    "ExecuteTime": {
     "end_time": "2021-12-29T17:21:17.411143Z",
     "start_time": "2021-12-29T17:21:17.397142Z"
    }
   },
   "outputs": [
    {
     "name": "stdout",
     "output_type": "stream",
     "text": [
      "이 예측 모델의 Hit Rate는 약 79.6% 입니다\n"
     ]
    }
   ],
   "source": [
    "print(f'이 예측 모델의 Hit Rate는 약 {np.round(sum(als_hit)/len(als_hit)*100,1)}% 입니다')"
   ]
  },
  {
   "cell_type": "code",
   "execution_count": 32,
   "id": "2b3e7f47",
   "metadata": {
    "ExecuteTime": {
     "end_time": "2021-12-29T17:21:17.426142Z",
     "start_time": "2021-12-29T17:21:17.412143Z"
    }
   },
   "outputs": [
    {
     "name": "stdout",
     "output_type": "stream",
     "text": [
      "이 예측 모델의 정밀도는 약 15.66% 입니다\n"
     ]
    }
   ],
   "source": [
    "print(f'이 예측 모델의 정밀도는 약 {np.round(sum(als_inter)/10/len(als_inter)*100,2)}% 입니다')"
   ]
  },
  {
   "cell_type": "markdown",
   "id": "d669ac73",
   "metadata": {},
   "source": [
    "## 예측된 태그 직접 보기"
   ]
  },
  {
   "cell_type": "code",
   "execution_count": 33,
   "id": "88dd9a7a",
   "metadata": {
    "ExecuteTime": {
     "end_time": "2021-12-29T17:21:17.471142Z",
     "start_time": "2021-12-29T17:21:17.427142Z"
    }
   },
   "outputs": [
    {
     "data": {
      "text/html": [
       "<div>\n",
       "<style scoped>\n",
       "    .dataframe tbody tr th:only-of-type {\n",
       "        vertical-align: middle;\n",
       "    }\n",
       "\n",
       "    .dataframe tbody tr th {\n",
       "        vertical-align: top;\n",
       "    }\n",
       "\n",
       "    .dataframe thead th {\n",
       "        text-align: right;\n",
       "    }\n",
       "</style>\n",
       "<table border=\"1\" class=\"dataframe\">\n",
       "  <thead>\n",
       "    <tr style=\"text-align: right;\">\n",
       "      <th></th>\n",
       "      <th>예측용태그</th>\n",
       "      <th>검증용태그</th>\n",
       "      <th>als_예측결과</th>\n",
       "      <th>als_히트</th>\n",
       "      <th>als_히트_count</th>\n",
       "    </tr>\n",
       "  </thead>\n",
       "  <tbody>\n",
       "    <tr>\n",
       "      <th>0</th>\n",
       "      <td>[트로피컬하우스, 드라이브, 일렉]</td>\n",
       "      <td>[팝, 힐링, 운동, 트렌드, Pop, 2017, 기분전환]</td>\n",
       "      <td>[좋은노래, 팝송, 댄스, 세련된, 힙합, 띵곡, 취향저격, 클럽, 그루브, 소울,...</td>\n",
       "      <td>0</td>\n",
       "      <td>0</td>\n",
       "    </tr>\n",
       "    <tr>\n",
       "      <th>1</th>\n",
       "      <td>[취향저격, 신나는, 여행]</td>\n",
       "      <td>[매장음악, 댄스, 여름, 드라이브, 일렉, 일렉트로니카, 기분전환]</td>\n",
       "      <td>[회상, 매장음악, 추억, 겨울, 드라이브, 운동, 감성, 사랑, 퇴근길, 설렘, ...</td>\n",
       "      <td>1</td>\n",
       "      <td>3</td>\n",
       "    </tr>\n",
       "    <tr>\n",
       "      <th>2</th>\n",
       "      <td>[사랑, 감성, 우울]</td>\n",
       "      <td>[새벽, 인디, 발라드, 잔잔한, 이별, 알앤비, 기분전환]</td>\n",
       "      <td>[매장음악, 설렘, 여행, 겨울, 퇴근길, 새벽, 가을, 혼자, 봄, 기분전환]</td>\n",
       "      <td>1</td>\n",
       "      <td>2</td>\n",
       "    </tr>\n",
       "    <tr>\n",
       "      <th>3</th>\n",
       "      <td>[드라이브, 라운지, 기분전환]</td>\n",
       "      <td>[세련된, 휴식, 펍, 매장, 그루브, 퇴근길, 새벽]</td>\n",
       "      <td>[매장음악, 여행, 비오는날, 여름, 감성, 매장, 카페, 새벽, 가을, 분위기, 밤]</td>\n",
       "      <td>1</td>\n",
       "      <td>2</td>\n",
       "    </tr>\n",
       "    <tr>\n",
       "      <th>4</th>\n",
       "      <td>[잠, 추억, 잔잔한]</td>\n",
       "      <td>[매장음악, 일상, 추위, 매장, 카페, 자장가, 새벽]</td>\n",
       "      <td>[주말, 휴식, 비오는날, 힐링, 감성, 차분한, 카페, 배경음악, 노동요, 새벽,...</td>\n",
       "      <td>1</td>\n",
       "      <td>2</td>\n",
       "    </tr>\n",
       "    <tr>\n",
       "      <th>5</th>\n",
       "      <td>[파워워킹, 퇴근길, 출근길]</td>\n",
       "      <td>[맥주, 드라이브, 비트, 흥겨운, 그루브, 분위기, 알앤비]</td>\n",
       "      <td>[매장음악, 설렘, 여행, 겨울, 감성, 산책, 사랑, 카페, 잔잔한, 새벽, 혼자...</td>\n",
       "      <td>0</td>\n",
       "      <td>0</td>\n",
       "    </tr>\n",
       "    <tr>\n",
       "      <th>6</th>\n",
       "      <td>[Lofi, 밤, 저녁]</td>\n",
       "      <td>[캐럴, 재즈힙합, 눈, 오후, 연말, 자장가, 잠들기전]</td>\n",
       "      <td>[새벽감성, 매장음악, 센치, 여름밤, 퇴근길, 비, 우울, 새벽, 달달, 혼자, 설렘]</td>\n",
       "      <td>0</td>\n",
       "      <td>0</td>\n",
       "    </tr>\n",
       "    <tr>\n",
       "      <th>7</th>\n",
       "      <td>[그냥, 위로, 그루브]</td>\n",
       "      <td>[팝송, 팝, 비오는날, 감성, Pop, 우울한, 기분전환]</td>\n",
       "      <td>[좋은노래, 혼자, 저녁, 슬픔, 힙합, 드라이브, 사랑, 퇴근길, 소울, 우울, ...</td>\n",
       "      <td>0</td>\n",
       "      <td>0</td>\n",
       "    </tr>\n",
       "    <tr>\n",
       "      <th>8</th>\n",
       "      <td>[휴식, Chill, 잔잔한]</td>\n",
       "      <td>[팝, 감성, Pop, 새벽, 새벽에, 몽환한, 밤]</td>\n",
       "      <td>[매장음악, 여행, 힐링, 비오는날, 감성, 산책, 카페, 까페, 새벽, 밤, 기분전환]</td>\n",
       "      <td>1</td>\n",
       "      <td>3</td>\n",
       "    </tr>\n",
       "    <tr>\n",
       "      <th>9</th>\n",
       "      <td>[여행, 드라이브, 힙합]</td>\n",
       "      <td>[힐링, 휴식, 오후, 그루브, 트렌디, 알앤비, 기분전환]</td>\n",
       "      <td>[매장음악, 회상, 추억, 운동, 감성, 사랑, 퇴근길, 새벽, 가을, 설렘, 기분전환]</td>\n",
       "      <td>1</td>\n",
       "      <td>1</td>\n",
       "    </tr>\n",
       "    <tr>\n",
       "      <th>10</th>\n",
       "      <td>[빌보드핫100, 기분전환, 여행]</td>\n",
       "      <td>[회상, 팝, 추억, 드라이브, 감성, 사랑, Pop]</td>\n",
       "      <td>[매장음악, 밤, 겨울, 드라이브, 감성, 운동, 산책, 까페, 새벽, 가을, 설렘]</td>\n",
       "      <td>1</td>\n",
       "      <td>2</td>\n",
       "    </tr>\n",
       "    <tr>\n",
       "      <th>11</th>\n",
       "      <td>[운동, 연휴, 힙합]</td>\n",
       "      <td>[기분좋은, 댄스, 드라이브, 오후, 비트, 가족, 스트레스]</td>\n",
       "      <td>[회상, 신나는, 댄스, 취향저격, 띵곡, 감각적인, 드라이브, 퇴근길, 불금, 노...</td>\n",
       "      <td>1</td>\n",
       "      <td>2</td>\n",
       "    </tr>\n",
       "    <tr>\n",
       "      <th>12</th>\n",
       "      <td>[분위기, 산책, 어쿠스틱]</td>\n",
       "      <td>[드라이브, 띵곡들, 발라드, 우울, 인디, 조용한, 혼자]</td>\n",
       "      <td>[매장음악, 새벽감성, 비오는날, 밤, 여름, 감성, 퇴근길, 카페, 새벽, 가을,...</td>\n",
       "      <td>0</td>\n",
       "      <td>0</td>\n",
       "    </tr>\n",
       "    <tr>\n",
       "      <th>13</th>\n",
       "      <td>[햇살, 봄바람, 봄]</td>\n",
       "      <td>[매장음악, 주말, 힐링, 휴식, 멜로디, 카페, 커피]</td>\n",
       "      <td>[기분좋은, 벚꽃, 나들이, 추위, 오후, 매장, 카페, 행복, 분위기, 커피]</td>\n",
       "      <td>1</td>\n",
       "      <td>2</td>\n",
       "    </tr>\n",
       "    <tr>\n",
       "      <th>14</th>\n",
       "      <td>[힐링, 저녁, 퇴근길]</td>\n",
       "      <td>[회상, 추억, 밤, 사랑, 새벽, 감미로운, 설렘]</td>\n",
       "      <td>[매장음악, 설렘, 여행, 겨울, 감성, 산책, 사랑, 카페, 새벽, 봄, 밤, 기...</td>\n",
       "      <td>1</td>\n",
       "      <td>4</td>\n",
       "    </tr>\n",
       "    <tr>\n",
       "      <th>15</th>\n",
       "      <td>[잔잔한, 새벽, 비오는날]</td>\n",
       "      <td>[감성, 가을, 낭만, 이별, 인생, 우울, 쓸쓸함]</td>\n",
       "      <td>[매장음악, 여행, 휴식, 감성, 산책, 카페, 까페, 가을, 밤, 기분전환]</td>\n",
       "      <td>1</td>\n",
       "      <td>2</td>\n",
       "    </tr>\n",
       "    <tr>\n",
       "      <th>16</th>\n",
       "      <td>[편안한, 따뜻한, 힐링]</td>\n",
       "      <td>[매장음악, 저녁, 매장, 카페, 잔잔한, 재즈, 기분전환]</td>\n",
       "      <td>[주말, 휴식, 비오는날, 산책, 여유, 카페, 잔잔한, 까페, 새벽, 커피, 밤]</td>\n",
       "      <td>1</td>\n",
       "      <td>2</td>\n",
       "    </tr>\n",
       "    <tr>\n",
       "      <th>17</th>\n",
       "      <td>[피아노, 미술관, 모닝콜]</td>\n",
       "      <td>[독서, 명상, 추위, 공부, 클래식, 연주곡, 아침]</td>\n",
       "      <td>[북카페, 독서, 뉴에이지, 집중, 공부, 클래식, 연주곡, 여유, 피곤, 잠들기전...</td>\n",
       "      <td>1</td>\n",
       "      <td>4</td>\n",
       "    </tr>\n",
       "    <tr>\n",
       "      <th>18</th>\n",
       "      <td>[팝, 중독성, 댄스]</td>\n",
       "      <td>[주말, 여행, 신나는, 드라이브, 파티, 봄, 기분전환]</td>\n",
       "      <td>[팝송, 취향저격, 띵곡, 감각적인, 드라이브, Pop, 불금, 노래, 보컬, 알앤...</td>\n",
       "      <td>1</td>\n",
       "      <td>1</td>\n",
       "    </tr>\n",
       "    <tr>\n",
       "      <th>19</th>\n",
       "      <td>[감성, 이소라, 여자가수]</td>\n",
       "      <td>[위로, 슬픔, 발라드, 사랑, 행복, 잔잔한, 분위기]</td>\n",
       "      <td>[회상, 좋은노래, 가요, 이별, 댄스, 슬픔, 추억, 노래방, 발라드, 연인, 아...</td>\n",
       "      <td>1</td>\n",
       "      <td>2</td>\n",
       "    </tr>\n",
       "    <tr>\n",
       "      <th>20</th>\n",
       "      <td>[오후, 위로, 북카페]</td>\n",
       "      <td>[뉴에이지, 카페, 피곤, 잔잔한, 피아노, 잠들기전, 자장가]</td>\n",
       "      <td>[생각, 주말, 일상, 추위, 봄날, 포근한, 밤새벽, 여유, 아침, 카페, 잔잔한...</td>\n",
       "      <td>1</td>\n",
       "      <td>2</td>\n",
       "    </tr>\n",
       "    <tr>\n",
       "      <th>21</th>\n",
       "      <td>[집, 행복, 꿈]</td>\n",
       "      <td>[매장음악, 드라이브, 산책, 바람, 잔잔한, 몽환, 가을감성]</td>\n",
       "      <td>[새벽감성, 나들이, 추위, 감성, 데이트, 퇴근길, 휴일, 카페, 연인, 봄, 설렘]</td>\n",
       "      <td>0</td>\n",
       "      <td>0</td>\n",
       "    </tr>\n",
       "    <tr>\n",
       "      <th>22</th>\n",
       "      <td>[힐링, 기분전환, 휴식]</td>\n",
       "      <td>[일상, 오후, 달달한, 매장, 여유, 카페, 봄]</td>\n",
       "      <td>[여행, 겨울, 감성, 산책, 연말, 잔잔한, 까페, 편안한, 가을, 밤]</td>\n",
       "      <td>0</td>\n",
       "      <td>0</td>\n",
       "    </tr>\n",
       "    <tr>\n",
       "      <th>23</th>\n",
       "      <td>[편안한, 추억, 스트레스]</td>\n",
       "      <td>[회상, 감미롭고, 집중, 사랑, 여유, 느낌있는, 설렘]</td>\n",
       "      <td>[매장음악, 여행, 음악, 휴식, 비오는날, 감성, 산책, 잔잔한, 새벽, 가을, ...</td>\n",
       "      <td>0</td>\n",
       "      <td>0</td>\n",
       "    </tr>\n",
       "    <tr>\n",
       "      <th>24</th>\n",
       "      <td>[하우스, 최신, 인기]</td>\n",
       "      <td>[팝, 댄스, 일렉트로닉, 클럽, Pop, 일렉, 파티]</td>\n",
       "      <td>[좋은노래, 흥, 신나는, 힘들때, 버스, 즐거운, 추천곡, 추천, 신곡, 음색, ...</td>\n",
       "      <td>0</td>\n",
       "      <td>0</td>\n",
       "    </tr>\n",
       "    <tr>\n",
       "      <th>25</th>\n",
       "      <td>[침대, 잠들기전, 클래식]</td>\n",
       "      <td>[휴식, 불면증, 공부, 연주곡, 자장가, 피아노, 노동요]</td>\n",
       "      <td>[독서, 공부, 오후, 포근한, 밤새벽, 연주곡, 여유, 피곤, 피아노, 모닝콜, ...</td>\n",
       "      <td>1</td>\n",
       "      <td>3</td>\n",
       "    </tr>\n",
       "    <tr>\n",
       "      <th>26</th>\n",
       "      <td>[트렌디, 알앤비, 힙합]</td>\n",
       "      <td>[매장음악, 리드미컬, 꿀보이스, 감각적인, 그루브, 카페, 커피]</td>\n",
       "      <td>[팝송, RnB, 세련된, 취향저격, 클럽, 그루브, 랩, 소울, 일렉, 느낌있는]</td>\n",
       "      <td>1</td>\n",
       "      <td>1</td>\n",
       "    </tr>\n",
       "    <tr>\n",
       "      <th>27</th>\n",
       "      <td>[드라이브, 매장, 하늘]</td>\n",
       "      <td>[저녁, 한강, 오후, 감성, 발라드, 카페, 가을]</td>\n",
       "      <td>[매장음악, 여행, 밤, 겨울, 감성, 산책, 카페, 새벽, 가을, 분위기, 혼자,...</td>\n",
       "      <td>1</td>\n",
       "      <td>3</td>\n",
       "    </tr>\n",
       "    <tr>\n",
       "      <th>28</th>\n",
       "      <td>[저녁, 쓸쓸하고, 밤]</td>\n",
       "      <td>[회상, 새벽, 슬픔, 추억, 사랑, 이별, 그리움]</td>\n",
       "      <td>[매장음악, 새벽감성, 여름, 감성, 퇴근길, 비, 카페, 우울, 새벽, 혼자, 설렘]</td>\n",
       "      <td>1</td>\n",
       "      <td>1</td>\n",
       "    </tr>\n",
       "    <tr>\n",
       "      <th>29</th>\n",
       "      <td>[울고싶은날, 새벽, 감성]</td>\n",
       "      <td>[새벽감성, 위로, 토닥토닥, 비오는날, 우울, 센치, 혼자]</td>\n",
       "      <td>[매장음악, 비오는날, 밤, 퇴근길, 카페, 우울, 가을, 분위기, 봄, 설렘, 기...</td>\n",
       "      <td>1</td>\n",
       "      <td>2</td>\n",
       "    </tr>\n",
       "    <tr>\n",
       "      <th>30</th>\n",
       "      <td>[스트레스, 힘내, 기분전환]</td>\n",
       "      <td>[신나는, 토닥토닥, 응원, 수능, 시험, 긍정, 수험생]</td>\n",
       "      <td>[매장음악, 여행, 겨울, 드라이브, 감성, 운동, 사랑, 퇴근길, 새벽, 가을, ...</td>\n",
       "      <td>0</td>\n",
       "      <td>0</td>\n",
       "    </tr>\n",
       "    <tr>\n",
       "      <th>31</th>\n",
       "      <td>[겨울, 공감, 산책]</td>\n",
       "      <td>[이별, 휴식, 드라이브, 사랑, 발라드, 잔잔한, 인디]</td>\n",
       "      <td>[회상, 설렘, 여행, 슬픔, 감성, 사랑, 퇴근길, 가을, 혼자, 봄, 기분전환]</td>\n",
       "      <td>1</td>\n",
       "      <td>1</td>\n",
       "    </tr>\n",
       "    <tr>\n",
       "      <th>32</th>\n",
       "      <td>[산뜻, 포근한, 달달]</td>\n",
       "      <td>[회상, 드라이브, 산책, 잔잔, 봄, 설렘, 기분전환]</td>\n",
       "      <td>[벚꽃, 슬픔, 추위, 밤새벽, 데이트, 어쿠스틱, 연인, 이별, 센치, 봄, 드라마]</td>\n",
       "      <td>1</td>\n",
       "      <td>1</td>\n",
       "    </tr>\n",
       "    <tr>\n",
       "      <th>33</th>\n",
       "      <td>[고막힐링, 기분전환, 매장음악]</td>\n",
       "      <td>[쓸쓸한, 힐링, 카페, 소울, 가을, 센치, 알앤비]</td>\n",
       "      <td>[설렘, 저녁, 슬픔, 겨울, 여름, 감성, 드라이브, 우울, 새벽, 가을, 밤]</td>\n",
       "      <td>1</td>\n",
       "      <td>1</td>\n",
       "    </tr>\n",
       "    <tr>\n",
       "      <th>34</th>\n",
       "      <td>[퇴근길, 센치, 겨울]</td>\n",
       "      <td>[외로운, 쓸쓸한, 위로, 감성, 발라드, 겨울밤, 혼자]</td>\n",
       "      <td>[매장음악, 설렘, 감성, 사랑, 카페, 행복, 우울, 새벽, 분위기, 혼자, 봄]</td>\n",
       "      <td>1</td>\n",
       "      <td>2</td>\n",
       "    </tr>\n",
       "    <tr>\n",
       "      <th>35</th>\n",
       "      <td>[리듬, 맥주, 클럽]</td>\n",
       "      <td>[운전, 댄스, 드라이브, 매장, 그루브, 루프탑, 기분전환]</td>\n",
       "      <td>[노래추천, RnB, 세련된, 힙합, 내적댄스, 그루브, 불금, 노래, 트렌디, 파티]</td>\n",
       "      <td>1</td>\n",
       "      <td>1</td>\n",
       "    </tr>\n",
       "    <tr>\n",
       "      <th>36</th>\n",
       "      <td>[90년대, 댄스, 휴가]</td>\n",
       "      <td>[무더위, 가요, 추억, 여름, 드라이브, 여름노래, 바다]</td>\n",
       "      <td>[회상, 좋은노래, 노래추천, 기억, 취향저격, 띵곡, 추억, 발라드, 불금, 노래...</td>\n",
       "      <td>1</td>\n",
       "      <td>1</td>\n",
       "    </tr>\n",
       "    <tr>\n",
       "      <th>37</th>\n",
       "      <td>[피곤, 노동요, 집중]</td>\n",
       "      <td>[생각, 작업, 명상, 연주곡, 피아노, 모닝콜, 커피]</td>\n",
       "      <td>[주말, 모닝콜, 독서, 공부, 오후, 차분한, 밤새벽, 잠들기전, 편안한, 월요병]</td>\n",
       "      <td>1</td>\n",
       "      <td>1</td>\n",
       "    </tr>\n",
       "    <tr>\n",
       "      <th>38</th>\n",
       "      <td>[주말, 휴양지, 운전]</td>\n",
       "      <td>[무더위, 시원한노래, 열대야, 여름, 월요병, 바다, 경쾌한]</td>\n",
       "      <td>[새벽감성, 센치, 한강, 여름밤, 매장, 데이트, 퇴근길, 행복, 연인, 더위, ...</td>\n",
       "      <td>0</td>\n",
       "      <td>0</td>\n",
       "    </tr>\n",
       "    <tr>\n",
       "      <th>39</th>\n",
       "      <td>[우울, 추억, 잔잔한]</td>\n",
       "      <td>[힐링, 드라이브, 감성, 사랑, 포근한, 카페, 봄]</td>\n",
       "      <td>[매장음악, 회상, 여행, 밤, 겨울, 감성, 산책, 사랑, 새벽, 가을, 설렘, ...</td>\n",
       "      <td>1</td>\n",
       "      <td>2</td>\n",
       "    </tr>\n",
       "  </tbody>\n",
       "</table>\n",
       "</div>"
      ],
      "text/plain": [
       "                  예측용태그                                   검증용태그  \\\n",
       "0   [트로피컬하우스, 드라이브, 일렉]       [팝, 힐링, 운동, 트렌드, Pop, 2017, 기분전환]   \n",
       "1       [취향저격, 신나는, 여행]  [매장음악, 댄스, 여름, 드라이브, 일렉, 일렉트로니카, 기분전환]   \n",
       "2          [사랑, 감성, 우울]       [새벽, 인디, 발라드, 잔잔한, 이별, 알앤비, 기분전환]   \n",
       "3     [드라이브, 라운지, 기분전환]          [세련된, 휴식, 펍, 매장, 그루브, 퇴근길, 새벽]   \n",
       "4          [잠, 추억, 잔잔한]         [매장음악, 일상, 추위, 매장, 카페, 자장가, 새벽]   \n",
       "5      [파워워킹, 퇴근길, 출근길]      [맥주, 드라이브, 비트, 흥겨운, 그루브, 분위기, 알앤비]   \n",
       "6         [Lofi, 밤, 저녁]        [캐럴, 재즈힙합, 눈, 오후, 연말, 자장가, 잠들기전]   \n",
       "7         [그냥, 위로, 그루브]       [팝송, 팝, 비오는날, 감성, Pop, 우울한, 기분전환]   \n",
       "8      [휴식, Chill, 잔잔한]           [팝, 감성, Pop, 새벽, 새벽에, 몽환한, 밤]   \n",
       "9        [여행, 드라이브, 힙합]       [힐링, 휴식, 오후, 그루브, 트렌디, 알앤비, 기분전환]   \n",
       "10  [빌보드핫100, 기분전환, 여행]          [회상, 팝, 추억, 드라이브, 감성, 사랑, Pop]   \n",
       "11         [운동, 연휴, 힙합]      [기분좋은, 댄스, 드라이브, 오후, 비트, 가족, 스트레스]   \n",
       "12      [분위기, 산책, 어쿠스틱]       [드라이브, 띵곡들, 발라드, 우울, 인디, 조용한, 혼자]   \n",
       "13         [햇살, 봄바람, 봄]         [매장음악, 주말, 힐링, 휴식, 멜로디, 카페, 커피]   \n",
       "14        [힐링, 저녁, 퇴근길]           [회상, 추억, 밤, 사랑, 새벽, 감미로운, 설렘]   \n",
       "15      [잔잔한, 새벽, 비오는날]           [감성, 가을, 낭만, 이별, 인생, 우울, 쓸쓸함]   \n",
       "16       [편안한, 따뜻한, 힐링]       [매장음악, 저녁, 매장, 카페, 잔잔한, 재즈, 기분전환]   \n",
       "17      [피아노, 미술관, 모닝콜]          [독서, 명상, 추위, 공부, 클래식, 연주곡, 아침]   \n",
       "18         [팝, 중독성, 댄스]        [주말, 여행, 신나는, 드라이브, 파티, 봄, 기분전환]   \n",
       "19      [감성, 이소라, 여자가수]         [위로, 슬픔, 발라드, 사랑, 행복, 잔잔한, 분위기]   \n",
       "20        [오후, 위로, 북카페]     [뉴에이지, 카페, 피곤, 잔잔한, 피아노, 잠들기전, 자장가]   \n",
       "21           [집, 행복, 꿈]     [매장음악, 드라이브, 산책, 바람, 잔잔한, 몽환, 가을감성]   \n",
       "22       [힐링, 기분전환, 휴식]            [일상, 오후, 달달한, 매장, 여유, 카페, 봄]   \n",
       "23      [편안한, 추억, 스트레스]        [회상, 감미롭고, 집중, 사랑, 여유, 느낌있는, 설렘]   \n",
       "24        [하우스, 최신, 인기]         [팝, 댄스, 일렉트로닉, 클럽, Pop, 일렉, 파티]   \n",
       "25      [침대, 잠들기전, 클래식]       [휴식, 불면증, 공부, 연주곡, 자장가, 피아노, 노동요]   \n",
       "26       [트렌디, 알앤비, 힙합]   [매장음악, 리드미컬, 꿀보이스, 감각적인, 그루브, 카페, 커피]   \n",
       "27       [드라이브, 매장, 하늘]           [저녁, 한강, 오후, 감성, 발라드, 카페, 가을]   \n",
       "28        [저녁, 쓸쓸하고, 밤]           [회상, 새벽, 슬픔, 추억, 사랑, 이별, 그리움]   \n",
       "29      [울고싶은날, 새벽, 감성]      [새벽감성, 위로, 토닥토닥, 비오는날, 우울, 센치, 혼자]   \n",
       "30     [스트레스, 힘내, 기분전환]        [신나는, 토닥토닥, 응원, 수능, 시험, 긍정, 수험생]   \n",
       "31         [겨울, 공감, 산책]        [이별, 휴식, 드라이브, 사랑, 발라드, 잔잔한, 인디]   \n",
       "32        [산뜻, 포근한, 달달]         [회상, 드라이브, 산책, 잔잔, 봄, 설렘, 기분전환]   \n",
       "33   [고막힐링, 기분전환, 매장음악]          [쓸쓸한, 힐링, 카페, 소울, 가을, 센치, 알앤비]   \n",
       "34        [퇴근길, 센치, 겨울]        [외로운, 쓸쓸한, 위로, 감성, 발라드, 겨울밤, 혼자]   \n",
       "35         [리듬, 맥주, 클럽]      [운전, 댄스, 드라이브, 매장, 그루브, 루프탑, 기분전환]   \n",
       "36       [90년대, 댄스, 휴가]       [무더위, 가요, 추억, 여름, 드라이브, 여름노래, 바다]   \n",
       "37        [피곤, 노동요, 집중]         [생각, 작업, 명상, 연주곡, 피아노, 모닝콜, 커피]   \n",
       "38        [주말, 휴양지, 운전]     [무더위, 시원한노래, 열대야, 여름, 월요병, 바다, 경쾌한]   \n",
       "39        [우울, 추억, 잔잔한]          [힐링, 드라이브, 감성, 사랑, 포근한, 카페, 봄]   \n",
       "\n",
       "                                             als_예측결과  als_히트  als_히트_count  \n",
       "0   [좋은노래, 팝송, 댄스, 세련된, 힙합, 띵곡, 취향저격, 클럽, 그루브, 소울,...       0             0  \n",
       "1   [회상, 매장음악, 추억, 겨울, 드라이브, 운동, 감성, 사랑, 퇴근길, 설렘, ...       1             3  \n",
       "2        [매장음악, 설렘, 여행, 겨울, 퇴근길, 새벽, 가을, 혼자, 봄, 기분전환]       1             2  \n",
       "3    [매장음악, 여행, 비오는날, 여름, 감성, 매장, 카페, 새벽, 가을, 분위기, 밤]       1             2  \n",
       "4   [주말, 휴식, 비오는날, 힐링, 감성, 차분한, 카페, 배경음악, 노동요, 새벽,...       1             2  \n",
       "5   [매장음악, 설렘, 여행, 겨울, 감성, 산책, 사랑, 카페, 잔잔한, 새벽, 혼자...       0             0  \n",
       "6   [새벽감성, 매장음악, 센치, 여름밤, 퇴근길, 비, 우울, 새벽, 달달, 혼자, 설렘]       0             0  \n",
       "7   [좋은노래, 혼자, 저녁, 슬픔, 힙합, 드라이브, 사랑, 퇴근길, 소울, 우울, ...       0             0  \n",
       "8   [매장음악, 여행, 힐링, 비오는날, 감성, 산책, 카페, 까페, 새벽, 밤, 기분전환]       1             3  \n",
       "9   [매장음악, 회상, 추억, 운동, 감성, 사랑, 퇴근길, 새벽, 가을, 설렘, 기분전환]       1             1  \n",
       "10    [매장음악, 밤, 겨울, 드라이브, 감성, 운동, 산책, 까페, 새벽, 가을, 설렘]       1             2  \n",
       "11  [회상, 신나는, 댄스, 취향저격, 띵곡, 감각적인, 드라이브, 퇴근길, 불금, 노...       1             2  \n",
       "12  [매장음악, 새벽감성, 비오는날, 밤, 여름, 감성, 퇴근길, 카페, 새벽, 가을,...       0             0  \n",
       "13       [기분좋은, 벚꽃, 나들이, 추위, 오후, 매장, 카페, 행복, 분위기, 커피]       1             2  \n",
       "14  [매장음악, 설렘, 여행, 겨울, 감성, 산책, 사랑, 카페, 새벽, 봄, 밤, 기...       1             4  \n",
       "15        [매장음악, 여행, 휴식, 감성, 산책, 카페, 까페, 가을, 밤, 기분전환]       1             2  \n",
       "16     [주말, 휴식, 비오는날, 산책, 여유, 카페, 잔잔한, 까페, 새벽, 커피, 밤]       1             2  \n",
       "17  [북카페, 독서, 뉴에이지, 집중, 공부, 클래식, 연주곡, 여유, 피곤, 잠들기전...       1             4  \n",
       "18  [팝송, 취향저격, 띵곡, 감각적인, 드라이브, Pop, 불금, 노래, 보컬, 알앤...       1             1  \n",
       "19  [회상, 좋은노래, 가요, 이별, 댄스, 슬픔, 추억, 노래방, 발라드, 연인, 아...       1             2  \n",
       "20  [생각, 주말, 일상, 추위, 봄날, 포근한, 밤새벽, 여유, 아침, 카페, 잔잔한...       1             2  \n",
       "21   [새벽감성, 나들이, 추위, 감성, 데이트, 퇴근길, 휴일, 카페, 연인, 봄, 설렘]       0             0  \n",
       "22          [여행, 겨울, 감성, 산책, 연말, 잔잔한, 까페, 편안한, 가을, 밤]       0             0  \n",
       "23  [매장음악, 여행, 음악, 휴식, 비오는날, 감성, 산책, 잔잔한, 새벽, 가을, ...       0             0  \n",
       "24  [좋은노래, 흥, 신나는, 힘들때, 버스, 즐거운, 추천곡, 추천, 신곡, 음색, ...       0             0  \n",
       "25  [독서, 공부, 오후, 포근한, 밤새벽, 연주곡, 여유, 피곤, 피아노, 모닝콜, ...       1             3  \n",
       "26     [팝송, RnB, 세련된, 취향저격, 클럽, 그루브, 랩, 소울, 일렉, 느낌있는]       1             1  \n",
       "27  [매장음악, 여행, 밤, 겨울, 감성, 산책, 카페, 새벽, 가을, 분위기, 혼자,...       1             3  \n",
       "28   [매장음악, 새벽감성, 여름, 감성, 퇴근길, 비, 카페, 우울, 새벽, 혼자, 설렘]       1             1  \n",
       "29  [매장음악, 비오는날, 밤, 퇴근길, 카페, 우울, 가을, 분위기, 봄, 설렘, 기...       1             2  \n",
       "30  [매장음악, 여행, 겨울, 드라이브, 감성, 운동, 사랑, 퇴근길, 새벽, 가을, ...       0             0  \n",
       "31     [회상, 설렘, 여행, 슬픔, 감성, 사랑, 퇴근길, 가을, 혼자, 봄, 기분전환]       1             1  \n",
       "32   [벚꽃, 슬픔, 추위, 밤새벽, 데이트, 어쿠스틱, 연인, 이별, 센치, 봄, 드라마]       1             1  \n",
       "33      [설렘, 저녁, 슬픔, 겨울, 여름, 감성, 드라이브, 우울, 새벽, 가을, 밤]       1             1  \n",
       "34     [매장음악, 설렘, 감성, 사랑, 카페, 행복, 우울, 새벽, 분위기, 혼자, 봄]       1             2  \n",
       "35   [노래추천, RnB, 세련된, 힙합, 내적댄스, 그루브, 불금, 노래, 트렌디, 파티]       1             1  \n",
       "36  [회상, 좋은노래, 노래추천, 기억, 취향저격, 띵곡, 추억, 발라드, 불금, 노래...       1             1  \n",
       "37    [주말, 모닝콜, 독서, 공부, 오후, 차분한, 밤새벽, 잠들기전, 편안한, 월요병]       1             1  \n",
       "38  [새벽감성, 센치, 한강, 여름밤, 매장, 데이트, 퇴근길, 행복, 연인, 더위, ...       0             0  \n",
       "39  [매장음악, 회상, 여행, 밤, 겨울, 감성, 산책, 사랑, 새벽, 가을, 설렘, ...       1             2  "
      ]
     },
     "execution_count": 33,
     "metadata": {},
     "output_type": "execute_result"
    }
   ],
   "source": [
    "cal_tag_hit_df.head(40)"
   ]
  }
 ],
 "metadata": {
  "kernelspec": {
   "display_name": "Python 3 (ipykernel)",
   "language": "python",
   "name": "python3"
  },
  "language_info": {
   "codemirror_mode": {
    "name": "ipython",
    "version": 3
   },
   "file_extension": ".py",
   "mimetype": "text/x-python",
   "name": "python",
   "nbconvert_exporter": "python",
   "pygments_lexer": "ipython3",
   "version": "3.7.11"
  },
  "toc": {
   "base_numbering": 1,
   "nav_menu": {},
   "number_sections": true,
   "sideBar": true,
   "skip_h1_title": false,
   "title_cell": "Table of Contents",
   "title_sidebar": "Contents",
   "toc_cell": false,
   "toc_position": {},
   "toc_section_display": true,
   "toc_window_display": false
  },
  "varInspector": {
   "cols": {
    "lenName": 16,
    "lenType": 16,
    "lenVar": 40
   },
   "kernels_config": {
    "python": {
     "delete_cmd_postfix": "",
     "delete_cmd_prefix": "del ",
     "library": "var_list.py",
     "varRefreshCmd": "print(var_dic_list())"
    },
    "r": {
     "delete_cmd_postfix": ") ",
     "delete_cmd_prefix": "rm(",
     "library": "var_list.r",
     "varRefreshCmd": "cat(var_dic_list()) "
    }
   },
   "types_to_exclude": [
    "module",
    "function",
    "builtin_function_or_method",
    "instance",
    "_Feature"
   ],
   "window_display": false
  }
 },
 "nbformat": 4,
 "nbformat_minor": 5
}
